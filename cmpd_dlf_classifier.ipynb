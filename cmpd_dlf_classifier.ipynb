{
 "cells": [
  {
   "cell_type": "markdown",
   "id": "located-charleston",
   "metadata": {},
   "source": [
    "# *Compound Classification*"
   ]
  },
  {
   "cell_type": "markdown",
   "id": "parliamentary-gossip",
   "metadata": {},
   "source": [
    "## *Data Load*"
   ]
  },
  {
   "cell_type": "code",
   "execution_count": 1,
   "id": "a4413858",
   "metadata": {},
   "outputs": [],
   "source": [
    "import numpy as np\n",
    "import pandas as pd"
   ]
  },
  {
   "cell_type": "code",
   "execution_count": 2,
   "id": "numerical-pharmacy",
   "metadata": {},
   "outputs": [
    {
     "data": {
      "text/html": [
       "<div>\n",
       "<style scoped>\n",
       "    .dataframe tbody tr th:only-of-type {\n",
       "        vertical-align: middle;\n",
       "    }\n",
       "\n",
       "    .dataframe tbody tr th {\n",
       "        vertical-align: top;\n",
       "    }\n",
       "\n",
       "    .dataframe thead th {\n",
       "        text-align: right;\n",
       "    }\n",
       "</style>\n",
       "<table border=\"1\" class=\"dataframe\">\n",
       "  <thead>\n",
       "    <tr style=\"text-align: right;\">\n",
       "      <th></th>\n",
       "      <th>inchikey</th>\n",
       "      <th>smiles</th>\n",
       "      <th>group</th>\n",
       "      <th>activity</th>\n",
       "    </tr>\n",
       "  </thead>\n",
       "  <tbody>\n",
       "    <tr>\n",
       "      <th>0</th>\n",
       "      <td>FNHKPVJBJVTLMP-UHFFFAOYSA-N</td>\n",
       "      <td>CNC(=O)c1cc(Oc2ccc(NC(=O)Nc3ccc(Cl)c(C(F)(F)F)...</td>\n",
       "      <td>train</td>\n",
       "      <td>active</td>\n",
       "    </tr>\n",
       "    <tr>\n",
       "      <th>1</th>\n",
       "      <td>CUDVHEFYRIWYQD-UHFFFAOYSA-N</td>\n",
       "      <td>CNC(=O)c1cccc2cc(Oc3ccnc4cc(OCC5(N)CC5)c(OC)cc...</td>\n",
       "      <td>train</td>\n",
       "      <td>active</td>\n",
       "    </tr>\n",
       "    <tr>\n",
       "      <th>2</th>\n",
       "      <td>TTZSNFLLYPYKIL-UHFFFAOYSA-N</td>\n",
       "      <td>Cc1cc2cc(Oc3ccnc(Nc4cccc(CS(=O)(=O)NCCN(C)C)c4...</td>\n",
       "      <td>test</td>\n",
       "      <td>active</td>\n",
       "    </tr>\n",
       "    <tr>\n",
       "      <th>3</th>\n",
       "      <td>UOVCGJXDGOGOCZ-UHFFFAOYSA-N</td>\n",
       "      <td>COc1cc2c(cc1F)C(c1ccccc1Cl)=Nc1c(n[nH]c1C)N2</td>\n",
       "      <td>train</td>\n",
       "      <td>active</td>\n",
       "    </tr>\n",
       "    <tr>\n",
       "      <th>4</th>\n",
       "      <td>CUIHSIWYWATEQL-UHFFFAOYSA-N</td>\n",
       "      <td>Cc1ccc(Nc2nccc(N(C)c3ccc4c(C)n(C)nc4c3)n2)cc1S...</td>\n",
       "      <td>test</td>\n",
       "      <td>active</td>\n",
       "    </tr>\n",
       "  </tbody>\n",
       "</table>\n",
       "</div>"
      ],
      "text/plain": [
       "                      inchikey  \\\n",
       "0  FNHKPVJBJVTLMP-UHFFFAOYSA-N   \n",
       "1  CUDVHEFYRIWYQD-UHFFFAOYSA-N   \n",
       "2  TTZSNFLLYPYKIL-UHFFFAOYSA-N   \n",
       "3  UOVCGJXDGOGOCZ-UHFFFAOYSA-N   \n",
       "4  CUIHSIWYWATEQL-UHFFFAOYSA-N   \n",
       "\n",
       "                                              smiles  group activity  \n",
       "0  CNC(=O)c1cc(Oc2ccc(NC(=O)Nc3ccc(Cl)c(C(F)(F)F)...  train   active  \n",
       "1  CNC(=O)c1cccc2cc(Oc3ccnc4cc(OCC5(N)CC5)c(OC)cc...  train   active  \n",
       "2  Cc1cc2cc(Oc3ccnc(Nc4cccc(CS(=O)(=O)NCCN(C)C)c4...   test   active  \n",
       "3       COc1cc2c(cc1F)C(c1ccccc1Cl)=Nc1c(n[nH]c1C)N2  train   active  \n",
       "4  Cc1ccc(Nc2nccc(N(C)c3ccc4c(C)n(C)nc4c3)n2)cc1S...   test   active  "
      ]
     },
     "execution_count": 2,
     "metadata": {},
     "output_type": "execute_result"
    }
   ],
   "source": [
    "df = pd.read_csv('./data/cmpd.csv')\n",
    "df.head()"
   ]
  },
  {
   "cell_type": "code",
   "execution_count": 3,
   "id": "occupational-forum",
   "metadata": {},
   "outputs": [
    {
     "data": {
      "text/plain": [
       "(5530, 4)"
      ]
     },
     "execution_count": 3,
     "metadata": {},
     "output_type": "execute_result"
    }
   ],
   "source": [
    "df.shape"
   ]
  },
  {
   "cell_type": "markdown",
   "id": "dec6d960",
   "metadata": {},
   "source": [
    "## *Data Processing*"
   ]
  },
  {
   "cell_type": "code",
   "execution_count": 4,
   "id": "4a9dfad5",
   "metadata": {},
   "outputs": [],
   "source": [
    "import rdkit.Chem as Chem\n",
    "import rdkit.Chem.AllChem as AllChem"
   ]
  },
  {
   "cell_type": "code",
   "execution_count": 5,
   "id": "blond-carpet",
   "metadata": {},
   "outputs": [],
   "source": [
    "df['mol'] = df.smiles.apply(Chem.MolFromSmiles)"
   ]
  },
  {
   "cell_type": "code",
   "execution_count": 6,
   "id": "geographic-reverse",
   "metadata": {},
   "outputs": [
    {
     "data": {
      "text/html": [
       "<div>\n",
       "<style scoped>\n",
       "    .dataframe tbody tr th:only-of-type {\n",
       "        vertical-align: middle;\n",
       "    }\n",
       "\n",
       "    .dataframe tbody tr th {\n",
       "        vertical-align: top;\n",
       "    }\n",
       "\n",
       "    .dataframe thead th {\n",
       "        text-align: right;\n",
       "    }\n",
       "</style>\n",
       "<table border=\"1\" class=\"dataframe\">\n",
       "  <thead>\n",
       "    <tr style=\"text-align: right;\">\n",
       "      <th></th>\n",
       "      <th>inchikey</th>\n",
       "      <th>smiles</th>\n",
       "      <th>group</th>\n",
       "      <th>activity</th>\n",
       "      <th>mol</th>\n",
       "    </tr>\n",
       "  </thead>\n",
       "  <tbody>\n",
       "    <tr>\n",
       "      <th>0</th>\n",
       "      <td>FNHKPVJBJVTLMP-UHFFFAOYSA-N</td>\n",
       "      <td>CNC(=O)c1cc(Oc2ccc(NC(=O)Nc3ccc(Cl)c(C(F)(F)F)...</td>\n",
       "      <td>train</td>\n",
       "      <td>active</td>\n",
       "      <td>&lt;rdkit.Chem.rdchem.Mol object at 0x7fac9125e2e0&gt;</td>\n",
       "    </tr>\n",
       "    <tr>\n",
       "      <th>1</th>\n",
       "      <td>CUDVHEFYRIWYQD-UHFFFAOYSA-N</td>\n",
       "      <td>CNC(=O)c1cccc2cc(Oc3ccnc4cc(OCC5(N)CC5)c(OC)cc...</td>\n",
       "      <td>train</td>\n",
       "      <td>active</td>\n",
       "      <td>&lt;rdkit.Chem.rdchem.Mol object at 0x7fac9125e340&gt;</td>\n",
       "    </tr>\n",
       "    <tr>\n",
       "      <th>2</th>\n",
       "      <td>TTZSNFLLYPYKIL-UHFFFAOYSA-N</td>\n",
       "      <td>Cc1cc2cc(Oc3ccnc(Nc4cccc(CS(=O)(=O)NCCN(C)C)c4...</td>\n",
       "      <td>test</td>\n",
       "      <td>active</td>\n",
       "      <td>&lt;rdkit.Chem.rdchem.Mol object at 0x7fac9125e3a0&gt;</td>\n",
       "    </tr>\n",
       "    <tr>\n",
       "      <th>3</th>\n",
       "      <td>UOVCGJXDGOGOCZ-UHFFFAOYSA-N</td>\n",
       "      <td>COc1cc2c(cc1F)C(c1ccccc1Cl)=Nc1c(n[nH]c1C)N2</td>\n",
       "      <td>train</td>\n",
       "      <td>active</td>\n",
       "      <td>&lt;rdkit.Chem.rdchem.Mol object at 0x7fac9125e400&gt;</td>\n",
       "    </tr>\n",
       "    <tr>\n",
       "      <th>4</th>\n",
       "      <td>CUIHSIWYWATEQL-UHFFFAOYSA-N</td>\n",
       "      <td>Cc1ccc(Nc2nccc(N(C)c3ccc4c(C)n(C)nc4c3)n2)cc1S...</td>\n",
       "      <td>test</td>\n",
       "      <td>active</td>\n",
       "      <td>&lt;rdkit.Chem.rdchem.Mol object at 0x7fac9125e460&gt;</td>\n",
       "    </tr>\n",
       "  </tbody>\n",
       "</table>\n",
       "</div>"
      ],
      "text/plain": [
       "                      inchikey  \\\n",
       "0  FNHKPVJBJVTLMP-UHFFFAOYSA-N   \n",
       "1  CUDVHEFYRIWYQD-UHFFFAOYSA-N   \n",
       "2  TTZSNFLLYPYKIL-UHFFFAOYSA-N   \n",
       "3  UOVCGJXDGOGOCZ-UHFFFAOYSA-N   \n",
       "4  CUIHSIWYWATEQL-UHFFFAOYSA-N   \n",
       "\n",
       "                                              smiles  group activity  \\\n",
       "0  CNC(=O)c1cc(Oc2ccc(NC(=O)Nc3ccc(Cl)c(C(F)(F)F)...  train   active   \n",
       "1  CNC(=O)c1cccc2cc(Oc3ccnc4cc(OCC5(N)CC5)c(OC)cc...  train   active   \n",
       "2  Cc1cc2cc(Oc3ccnc(Nc4cccc(CS(=O)(=O)NCCN(C)C)c4...   test   active   \n",
       "3       COc1cc2c(cc1F)C(c1ccccc1Cl)=Nc1c(n[nH]c1C)N2  train   active   \n",
       "4  Cc1ccc(Nc2nccc(N(C)c3ccc4c(C)n(C)nc4c3)n2)cc1S...   test   active   \n",
       "\n",
       "                                                mol  \n",
       "0  <rdkit.Chem.rdchem.Mol object at 0x7fac9125e2e0>  \n",
       "1  <rdkit.Chem.rdchem.Mol object at 0x7fac9125e340>  \n",
       "2  <rdkit.Chem.rdchem.Mol object at 0x7fac9125e3a0>  \n",
       "3  <rdkit.Chem.rdchem.Mol object at 0x7fac9125e400>  \n",
       "4  <rdkit.Chem.rdchem.Mol object at 0x7fac9125e460>  "
      ]
     },
     "execution_count": 6,
     "metadata": {},
     "output_type": "execute_result"
    }
   ],
   "source": [
    "df.head()"
   ]
  },
  {
   "cell_type": "code",
   "execution_count": 7,
   "id": "79fefeab",
   "metadata": {},
   "outputs": [
    {
     "name": "stdout",
     "output_type": "stream",
     "text": [
      "[[0]\n",
      " [0]\n",
      " [0]\n",
      " ...\n",
      " [0]\n",
      " [0]\n",
      " [0]]\n"
     ]
    }
   ],
   "source": [
    "temp = AllChem.GetMorganFingerprintAsBitVect(df.mol[0], 4, nBits=2048)\n",
    "print(np.vstack(temp))"
   ]
  },
  {
   "cell_type": "code",
   "execution_count": 8,
   "id": "94df5708",
   "metadata": {},
   "outputs": [],
   "source": [
    "# with minimal modification, we obtain the fingerprint vector using RDKit\n",
    "\n",
    "def get_Xy(df):\n",
    "    X = np.vstack(df.mol.apply(lambda m: list(AllChem.GetMorganFingerprintAsBitVect(m, 4, nBits=2048))))\n",
    "    y = df.activity.eq('active').astype(float).to_numpy()\n",
    "    return X, y "
   ]
  },
  {
   "cell_type": "code",
   "execution_count": 9,
   "id": "deb2e798",
   "metadata": {},
   "outputs": [],
   "source": [
    "X_train, y_train = get_Xy(df[df.group.eq('train')])\n",
    "X_test, y_test = get_Xy(df[df.group.eq('test')])"
   ]
  },
  {
   "cell_type": "code",
   "execution_count": 10,
   "id": "fe897e37",
   "metadata": {},
   "outputs": [
    {
     "name": "stdout",
     "output_type": "stream",
     "text": [
      "[[0 0 0 ... 0 0 0]\n",
      " [0 0 1 ... 0 0 0]\n",
      " [0 1 0 ... 0 1 0]\n",
      " ...\n",
      " [0 0 0 ... 0 0 1]\n",
      " [0 0 0 ... 0 0 1]\n",
      " [0 0 0 ... 0 0 1]]\n"
     ]
    }
   ],
   "source": [
    "print(X_train)"
   ]
  },
  {
   "cell_type": "code",
   "execution_count": 11,
   "id": "a58e07c5",
   "metadata": {},
   "outputs": [
    {
     "name": "stdout",
     "output_type": "stream",
     "text": [
      "[1. 1. 1. ... 0. 0. 0.]\n"
     ]
    }
   ],
   "source": [
    "print(y_train)"
   ]
  },
  {
   "cell_type": "code",
   "execution_count": 12,
   "id": "88ca5b1c",
   "metadata": {},
   "outputs": [
    {
     "name": "stdout",
     "output_type": "stream",
     "text": [
      "[[0 0 0 ... 0 0 1]\n",
      " [0 0 0 ... 0 0 0]\n",
      " [0 0 0 ... 0 0 0]\n",
      " ...\n",
      " [0 0 0 ... 0 0 0]\n",
      " [0 0 0 ... 0 0 0]\n",
      " [0 0 0 ... 0 0 0]]\n"
     ]
    }
   ],
   "source": [
    "print(X_test)"
   ]
  },
  {
   "cell_type": "code",
   "execution_count": 13,
   "id": "7bb58702",
   "metadata": {},
   "outputs": [
    {
     "name": "stdout",
     "output_type": "stream",
     "text": [
      "[1. 1. 1. ... 0. 0. 0.]\n"
     ]
    }
   ],
   "source": [
    "print(y_test)"
   ]
  },
  {
   "cell_type": "markdown",
   "id": "a7e60535",
   "metadata": {},
   "source": [
    "## *Sklearn Model Test*"
   ]
  },
  {
   "cell_type": "code",
   "execution_count": 14,
   "id": "a7b3b00b",
   "metadata": {},
   "outputs": [],
   "source": [
    "from sklearn.model_selection import KFold\n",
    "from sklearn.svm import SVC\n",
    "from sklearn.ensemble import RandomForestClassifier\n",
    "import sklearn.metrics as metrics"
   ]
  },
  {
   "cell_type": "markdown",
   "id": "301c3616",
   "metadata": {},
   "source": [
    "### *RF*"
   ]
  },
  {
   "cell_type": "code",
   "execution_count": 15,
   "id": "5c766fed",
   "metadata": {},
   "outputs": [
    {
     "data": {
      "text/plain": [
       "0.8718609143593046"
      ]
     },
     "execution_count": 15,
     "metadata": {},
     "output_type": "execute_result"
    }
   ],
   "source": [
    "clf = RandomForestClassifier()\n",
    "clf.fit(X_train, y_train)\n",
    "clf.score(X_test, y_test)"
   ]
  },
  {
   "cell_type": "code",
   "execution_count": 16,
   "id": "d7044e28",
   "metadata": {},
   "outputs": [
    {
     "name": "stdout",
     "output_type": "stream",
     "text": [
      "[0.47 0.52 0.3  ... 0.28 0.33 0.43]\n"
     ]
    }
   ],
   "source": [
    "y_pred = clf.predict_proba(X_test)[:, 1]\n",
    "print(y_pred)"
   ]
  },
  {
   "cell_type": "code",
   "execution_count": 17,
   "id": "c44e5345",
   "metadata": {},
   "outputs": [
    {
     "data": {
      "text/plain": [
       "0.4206760610348625"
      ]
     },
     "execution_count": 17,
     "metadata": {},
     "output_type": "execute_result"
    }
   ],
   "source": [
    "# logloss\n",
    "metrics.log_loss(y_test, y_pred, labels=[0, 1])"
   ]
  },
  {
   "cell_type": "code",
   "execution_count": 18,
   "id": "99fe2e35",
   "metadata": {},
   "outputs": [
    {
     "data": {
      "text/plain": [
       "0.8773222420558681"
      ]
     },
     "execution_count": 18,
     "metadata": {},
     "output_type": "execute_result"
    }
   ],
   "source": [
    "# AUC PRC\n",
    "precision, recall, _ = metrics.precision_recall_curve(y_test, y_pred, pos_label=1)\n",
    "metrics.auc(recall, precision)"
   ]
  },
  {
   "cell_type": "code",
   "execution_count": 19,
   "id": "71ebe3b7",
   "metadata": {},
   "outputs": [
    {
     "data": {
      "text/plain": [
       "0.886617676194593"
      ]
     },
     "execution_count": 19,
     "metadata": {},
     "output_type": "execute_result"
    }
   ],
   "source": [
    "# AUC ROC\n",
    "fpr_roc, tpr_roc, _ = metrics.roc_curve(y_test, y_pred, pos_label=1)\n",
    "metrics.auc(fpr_roc, tpr_roc)"
   ]
  },
  {
   "cell_type": "markdown",
   "id": "b28e7dfa",
   "metadata": {},
   "source": [
    "### *SVM*"
   ]
  },
  {
   "cell_type": "code",
   "execution_count": 20,
   "id": "a1205ed3",
   "metadata": {},
   "outputs": [
    {
     "data": {
      "text/plain": [
       "0.871216999356085"
      ]
     },
     "execution_count": 20,
     "metadata": {},
     "output_type": "execute_result"
    }
   ],
   "source": [
    "clf = SVC()\n",
    "clf.fit(X_train, y_train)\n",
    "clf.score(X_test, y_test)"
   ]
  },
  {
   "cell_type": "code",
   "execution_count": 33,
   "id": "15f3206a",
   "metadata": {},
   "outputs": [
    {
     "name": "stdout",
     "output_type": "stream",
     "text": [
      "[1. 0. 0. ... 0. 0. 0.]\n"
     ]
    }
   ],
   "source": [
    "y_pred = clf.predict(X_test)\n",
    "print(y_pred)"
   ]
  },
  {
   "cell_type": "code",
   "execution_count": 36,
   "id": "4c264400",
   "metadata": {},
   "outputs": [],
   "source": [
    "test_data = df[df.group.eq('test')]"
   ]
  },
  {
   "cell_type": "code",
   "execution_count": 39,
   "id": "3dd95d64",
   "metadata": {},
   "outputs": [
    {
     "name": "stdout",
     "output_type": "stream",
     "text": [
      "inchikey    1553\n",
      "smiles      1553\n",
      "group       1553\n",
      "activity    1553\n",
      "mol         1553\n",
      "dtype: int64\n",
      "1553\n"
     ]
    }
   ],
   "source": [
    "print(test_data.count())\n",
    "print(len(test_data))"
   ]
  },
  {
   "cell_type": "code",
   "execution_count": 43,
   "id": "c8088159",
   "metadata": {},
   "outputs": [
    {
     "name": "stderr",
     "output_type": "stream",
     "text": [
      "/tmp/ipykernel_3958328/1053147531.py:1: SettingWithCopyWarning: \n",
      "A value is trying to be set on a copy of a slice from a DataFrame.\n",
      "Try using .loc[row_indexer,col_indexer] = value instead\n",
      "\n",
      "See the caveats in the documentation: https://pandas.pydata.org/pandas-docs/stable/user_guide/indexing.html#returning-a-view-versus-a-copy\n",
      "  test_data['predict'] = y_pred\n"
     ]
    }
   ],
   "source": [
    "test_data['predict'] = y_pred"
   ]
  },
  {
   "cell_type": "code",
   "execution_count": 47,
   "id": "5f7ea380",
   "metadata": {},
   "outputs": [
    {
     "data": {
      "text/html": [
       "<div>\n",
       "<style scoped>\n",
       "    .dataframe tbody tr th:only-of-type {\n",
       "        vertical-align: middle;\n",
       "    }\n",
       "\n",
       "    .dataframe tbody tr th {\n",
       "        vertical-align: top;\n",
       "    }\n",
       "\n",
       "    .dataframe thead th {\n",
       "        text-align: right;\n",
       "    }\n",
       "</style>\n",
       "<table border=\"1\" class=\"dataframe\">\n",
       "  <thead>\n",
       "    <tr style=\"text-align: right;\">\n",
       "      <th></th>\n",
       "      <th>inchikey</th>\n",
       "      <th>smiles</th>\n",
       "      <th>group</th>\n",
       "      <th>activity</th>\n",
       "      <th>mol</th>\n",
       "      <th>predict</th>\n",
       "    </tr>\n",
       "  </thead>\n",
       "  <tbody>\n",
       "    <tr>\n",
       "      <th>2</th>\n",
       "      <td>TTZSNFLLYPYKIL-UHFFFAOYSA-N</td>\n",
       "      <td>Cc1cc2cc(Oc3ccnc(Nc4cccc(CS(=O)(=O)NCCN(C)C)c4...</td>\n",
       "      <td>test</td>\n",
       "      <td>active</td>\n",
       "      <td>&lt;rdkit.Chem.rdchem.Mol object at 0x7fac9125e3a0&gt;</td>\n",
       "      <td>1.0</td>\n",
       "    </tr>\n",
       "    <tr>\n",
       "      <th>4</th>\n",
       "      <td>CUIHSIWYWATEQL-UHFFFAOYSA-N</td>\n",
       "      <td>Cc1ccc(Nc2nccc(N(C)c3ccc4c(C)n(C)nc4c3)n2)cc1S...</td>\n",
       "      <td>test</td>\n",
       "      <td>active</td>\n",
       "      <td>&lt;rdkit.Chem.rdchem.Mol object at 0x7fac9125e460&gt;</td>\n",
       "      <td>0.0</td>\n",
       "    </tr>\n",
       "    <tr>\n",
       "      <th>6</th>\n",
       "      <td>JMGXJHWTVBGOKG-UHFFFAOYSA-N</td>\n",
       "      <td>Cc1cc(-c2cc(OC(=O)c3ccccc3)ccc2Cl)cc2nnc(Nc3cc...</td>\n",
       "      <td>test</td>\n",
       "      <td>active</td>\n",
       "      <td>&lt;rdkit.Chem.rdchem.Mol object at 0x7fac9125e520&gt;</td>\n",
       "      <td>0.0</td>\n",
       "    </tr>\n",
       "    <tr>\n",
       "      <th>10</th>\n",
       "      <td>DXCUKNQANPLTEJ-UHFFFAOYSA-N</td>\n",
       "      <td>CCN(CC)CCCCNc1ncc2cc(-c3cc(OC)cc(OC)c3)c(NC(=O...</td>\n",
       "      <td>test</td>\n",
       "      <td>active</td>\n",
       "      <td>&lt;rdkit.Chem.rdchem.Mol object at 0x7fac9125e6a0&gt;</td>\n",
       "      <td>1.0</td>\n",
       "    </tr>\n",
       "    <tr>\n",
       "      <th>11</th>\n",
       "      <td>PIQCTGMSNWUMAF-UHFFFAOYSA-N</td>\n",
       "      <td>CN1CCN(c2ccc3nc(-c4c(N)c5c(F)cccc5[nH]c4=O)[nH...</td>\n",
       "      <td>test</td>\n",
       "      <td>active</td>\n",
       "      <td>&lt;rdkit.Chem.rdchem.Mol object at 0x7fac9125e700&gt;</td>\n",
       "      <td>1.0</td>\n",
       "    </tr>\n",
       "    <tr>\n",
       "      <th>16</th>\n",
       "      <td>JGEBLDKNWBUGRZ-HXUWFJFHSA-N</td>\n",
       "      <td>CN(C[C@@H]1COCCO1)S(=O)(=O)Nc1ccc2ccc3ncc(-c4c...</td>\n",
       "      <td>test</td>\n",
       "      <td>active</td>\n",
       "      <td>&lt;rdkit.Chem.rdchem.Mol object at 0x7fac9125e8e0&gt;</td>\n",
       "      <td>0.0</td>\n",
       "    </tr>\n",
       "    <tr>\n",
       "      <th>18</th>\n",
       "      <td>AQHXGQTWGFVXTB-UHFFFAOYSA-N</td>\n",
       "      <td>COc1cc(CCc2[nH]nc(Nc3ccnc(NCc4onc(C)c4)n3)c2)c...</td>\n",
       "      <td>test</td>\n",
       "      <td>active</td>\n",
       "      <td>&lt;rdkit.Chem.rdchem.Mol object at 0x7fac9125e9a0&gt;</td>\n",
       "      <td>1.0</td>\n",
       "    </tr>\n",
       "    <tr>\n",
       "      <th>23</th>\n",
       "      <td>BUSNTKOLFQPMBH-UHFFFAOYSA-N</td>\n",
       "      <td>Cc1cc(CNc2ncc(Br)c(Nc3[nH]nc(CCc4ccccc4)c3)n2)on1</td>\n",
       "      <td>test</td>\n",
       "      <td>active</td>\n",
       "      <td>&lt;rdkit.Chem.rdchem.Mol object at 0x7fac9125eb80&gt;</td>\n",
       "      <td>1.0</td>\n",
       "    </tr>\n",
       "    <tr>\n",
       "      <th>24</th>\n",
       "      <td>COJBCAMFZDFGFK-TVSWGBMESA-N</td>\n",
       "      <td>O[CH]1O[CH]([CH](O)[CH](O)[CH]1O[S](O)(=O)=O)C...</td>\n",
       "      <td>test</td>\n",
       "      <td>active</td>\n",
       "      <td>&lt;rdkit.Chem.rdchem.Mol object at 0x7fac9125ebe0&gt;</td>\n",
       "      <td>0.0</td>\n",
       "    </tr>\n",
       "    <tr>\n",
       "      <th>25</th>\n",
       "      <td>COJBCAMFZDFGFK-VCSGLWQLSA-N</td>\n",
       "      <td>O[CH]1O[CH]([CH](O)[CH](O)[CH]1O[S](O)(=O)=O)C...</td>\n",
       "      <td>test</td>\n",
       "      <td>active</td>\n",
       "      <td>&lt;rdkit.Chem.rdchem.Mol object at 0x7fac9125ec40&gt;</td>\n",
       "      <td>0.0</td>\n",
       "    </tr>\n",
       "    <tr>\n",
       "      <th>30</th>\n",
       "      <td>DQTRACMFIGDHSN-UKFBFLRUSA-N</td>\n",
       "      <td>O[CH]1O[CH](CO[S](O)(=O)=O)[CH](O)[CH](O)[CH]1...</td>\n",
       "      <td>test</td>\n",
       "      <td>active</td>\n",
       "      <td>&lt;rdkit.Chem.rdchem.Mol object at 0x7fac9125ee20&gt;</td>\n",
       "      <td>0.0</td>\n",
       "    </tr>\n",
       "    <tr>\n",
       "      <th>31</th>\n",
       "      <td>DXCUKNQANPLTEJ-UHFFFAOYSA-N</td>\n",
       "      <td>CCN(CC)CCCCNc1ncc2cc(c(NC(=O)NC(C)(C)C)nc2n1)c...</td>\n",
       "      <td>test</td>\n",
       "      <td>active</td>\n",
       "      <td>&lt;rdkit.Chem.rdchem.Mol object at 0x7fac9125ee80&gt;</td>\n",
       "      <td>1.0</td>\n",
       "    </tr>\n",
       "    <tr>\n",
       "      <th>34</th>\n",
       "      <td>HGJBVDYLOQVDMM-UHFFFAOYSA-N</td>\n",
       "      <td>CCN1CCN(CC1)c2ccc(Nc3cc(ncn3)N(C)C(=O)Nc4c(Cl)...</td>\n",
       "      <td>test</td>\n",
       "      <td>active</td>\n",
       "      <td>&lt;rdkit.Chem.rdchem.Mol object at 0x7fac9125efa0&gt;</td>\n",
       "      <td>0.0</td>\n",
       "    </tr>\n",
       "    <tr>\n",
       "      <th>35</th>\n",
       "      <td>HPDWTQKRQUCMTC-UHFFFAOYSA-N</td>\n",
       "      <td>CCC(=O)Nc1cccc(C)c1Nc2ncc(OCc3c(Cl)c(OC)cc(OC)...</td>\n",
       "      <td>test</td>\n",
       "      <td>active</td>\n",
       "      <td>&lt;rdkit.Chem.rdchem.Mol object at 0x7fac8e690040&gt;</td>\n",
       "      <td>1.0</td>\n",
       "    </tr>\n",
       "    <tr>\n",
       "      <th>38</th>\n",
       "      <td>JNDVEAXZWJIOKB-JYRVWZFOSA-N</td>\n",
       "      <td>Cc1c[nH]c(C=C2C(=O)Nc3ccccc23)c1CCC(O)=O</td>\n",
       "      <td>test</td>\n",
       "      <td>active</td>\n",
       "      <td>&lt;rdkit.Chem.rdchem.Mol object at 0x7fac8e690160&gt;</td>\n",
       "      <td>1.0</td>\n",
       "    </tr>\n",
       "    <tr>\n",
       "      <th>39</th>\n",
       "      <td>JZVDJULPDILYDY-UHFFFAOYSA-N</td>\n",
       "      <td>CCN(CC)CCCNc1ncc2cc(c(NC(=O)NC(C)(C)C)nc2n1)c3...</td>\n",
       "      <td>test</td>\n",
       "      <td>active</td>\n",
       "      <td>&lt;rdkit.Chem.rdchem.Mol object at 0x7fac8e6901c0&gt;</td>\n",
       "      <td>1.0</td>\n",
       "    </tr>\n",
       "    <tr>\n",
       "      <th>45</th>\n",
       "      <td>OVRNDRQMDRJTHS-FMDGEEDCSA-N</td>\n",
       "      <td>CC(=O)N[CH]1[CH](O)O[CH](CO)[CH](O)[CH]1O</td>\n",
       "      <td>test</td>\n",
       "      <td>active</td>\n",
       "      <td>&lt;rdkit.Chem.rdchem.Mol object at 0x7fac8e690400&gt;</td>\n",
       "      <td>0.0</td>\n",
       "    </tr>\n",
       "    <tr>\n",
       "      <th>52</th>\n",
       "      <td>QADPYRIHXKWUSV-UHFFFAOYSA-N</td>\n",
       "      <td>CCN1CCN(CC1)c2ccc(Nc3cc(ncn3)N(C)C(=O)Nc4c(Cl)...</td>\n",
       "      <td>test</td>\n",
       "      <td>active</td>\n",
       "      <td>&lt;rdkit.Chem.rdchem.Mol object at 0x7fac8e6906a0&gt;</td>\n",
       "      <td>0.0</td>\n",
       "    </tr>\n",
       "    <tr>\n",
       "      <th>56</th>\n",
       "      <td>SOZCWCPVKIINOB-UHFFFAOYSA-N</td>\n",
       "      <td>Cn1cc(cn1)c2cnc3cnn(c3c2)[S](=O)(=O)c4cnc5ccc(...</td>\n",
       "      <td>test</td>\n",
       "      <td>active</td>\n",
       "      <td>&lt;rdkit.Chem.rdchem.Mol object at 0x7fac8e690820&gt;</td>\n",
       "      <td>0.0</td>\n",
       "    </tr>\n",
       "    <tr>\n",
       "      <th>65</th>\n",
       "      <td>YHIGPAIFBVOPKV-UHFFFAOYSA-N</td>\n",
       "      <td>COc1cc(OC)c(Cl)c(N2Cc3cnc(Nc4ccccc4)nc3N(C5CCN...</td>\n",
       "      <td>test</td>\n",
       "      <td>active</td>\n",
       "      <td>&lt;rdkit.Chem.rdchem.Mol object at 0x7fac8f988d60&gt;</td>\n",
       "      <td>1.0</td>\n",
       "    </tr>\n",
       "    <tr>\n",
       "      <th>66</th>\n",
       "      <td>YLSKPWFLSHNDEO-UHFFFAOYSA-N</td>\n",
       "      <td>COc1ccc(CCc2cc([nH]n2)Nc3ccnc(NCc4onc(C)c4)n3)...</td>\n",
       "      <td>test</td>\n",
       "      <td>active</td>\n",
       "      <td>&lt;rdkit.Chem.rdchem.Mol object at 0x7fac8f988d00&gt;</td>\n",
       "      <td>1.0</td>\n",
       "    </tr>\n",
       "    <tr>\n",
       "      <th>67</th>\n",
       "      <td>ZWCOUICPAQBKJI-UHFFFAOYSA-N</td>\n",
       "      <td>Cc1cc(CNc2nccc(Nc3cc(CCc4ccccc4)[nH]n3)n2)on1</td>\n",
       "      <td>test</td>\n",
       "      <td>active</td>\n",
       "      <td>&lt;rdkit.Chem.rdchem.Mol object at 0x7fac8f988be0&gt;</td>\n",
       "      <td>1.0</td>\n",
       "    </tr>\n",
       "    <tr>\n",
       "      <th>69</th>\n",
       "      <td>YCOYDOIWSSHVCK-UHFFFAOYSA-N</td>\n",
       "      <td>Clc1ccc(Nc2nnc(Cc3ccncc3)c3ccccc23)cc1</td>\n",
       "      <td>test</td>\n",
       "      <td>inactive</td>\n",
       "      <td>&lt;rdkit.Chem.rdchem.Mol object at 0x7fac8f988a60&gt;</td>\n",
       "      <td>0.0</td>\n",
       "    </tr>\n",
       "    <tr>\n",
       "      <th>75</th>\n",
       "      <td>PVLOKYREDKFWTF-UHFFFAOYSA-N</td>\n",
       "      <td>NS(=O)(=O)c1ccc(Nc2cc(-c3cccc(O)c3)n[nH]2)cc1</td>\n",
       "      <td>test</td>\n",
       "      <td>unknown</td>\n",
       "      <td>&lt;rdkit.Chem.rdchem.Mol object at 0x7fac8e690d00&gt;</td>\n",
       "      <td>0.0</td>\n",
       "    </tr>\n",
       "    <tr>\n",
       "      <th>76</th>\n",
       "      <td>QVUJFGWIMPTAEH-UHFFFAOYSA-N</td>\n",
       "      <td>NS(=O)(=O)c1ccc(Nc2cc(-c3ccc(O)c(F)c3)n[nH]2)cc1</td>\n",
       "      <td>test</td>\n",
       "      <td>unknown</td>\n",
       "      <td>&lt;rdkit.Chem.rdchem.Mol object at 0x7fac8e690d60&gt;</td>\n",
       "      <td>0.0</td>\n",
       "    </tr>\n",
       "    <tr>\n",
       "      <th>84</th>\n",
       "      <td>GMKQAXFNIGTRDK-UHFFFAOYSA-N</td>\n",
       "      <td>CN1CCN(c2ccc(Nc3cc4c(cn3)cc(-c3c(Cl)cccc3Cl)c(...</td>\n",
       "      <td>test</td>\n",
       "      <td>active</td>\n",
       "      <td>&lt;rdkit.Chem.rdchem.Mol object at 0x7fac8e6910a0&gt;</td>\n",
       "      <td>1.0</td>\n",
       "    </tr>\n",
       "    <tr>\n",
       "      <th>88</th>\n",
       "      <td>NMLMUNQQEDDASM-UHFFFAOYSA-N</td>\n",
       "      <td>CN1CCN(CCCCCNc2ncc3cc(-c4c(Cl)cccc4Cl)c(=O)n(C...</td>\n",
       "      <td>test</td>\n",
       "      <td>active</td>\n",
       "      <td>&lt;rdkit.Chem.rdchem.Mol object at 0x7fac8e691220&gt;</td>\n",
       "      <td>1.0</td>\n",
       "    </tr>\n",
       "    <tr>\n",
       "      <th>90</th>\n",
       "      <td>ZKUIGFKRPUCRRC-UHFFFAOYSA-N</td>\n",
       "      <td>CCN(CC)CCOc1ccc(Nc2ccc3cc(-c4c(Cl)cccc4Cl)c(=O...</td>\n",
       "      <td>test</td>\n",
       "      <td>inactive</td>\n",
       "      <td>&lt;rdkit.Chem.rdchem.Mol object at 0x7fac8e6912e0&gt;</td>\n",
       "      <td>0.0</td>\n",
       "    </tr>\n",
       "    <tr>\n",
       "      <th>96</th>\n",
       "      <td>UJWFQKNVQJGDQI-UHFFFAOYSA-N</td>\n",
       "      <td>CCN(CC)CCNc1ncc2cc(-c3c(Cl)cccc3Cl)c(=O)n(C)c2n1</td>\n",
       "      <td>test</td>\n",
       "      <td>inactive</td>\n",
       "      <td>&lt;rdkit.Chem.rdchem.Mol object at 0x7fac8e691520&gt;</td>\n",
       "      <td>1.0</td>\n",
       "    </tr>\n",
       "    <tr>\n",
       "      <th>103</th>\n",
       "      <td>UZGZLCVPKWOCDZ-UHFFFAOYSA-N</td>\n",
       "      <td>CNc1ncc2cc(-c3c(Cl)cccc3Cl)c(=O)n(C)c2n1</td>\n",
       "      <td>test</td>\n",
       "      <td>intermediate</td>\n",
       "      <td>&lt;rdkit.Chem.rdchem.Mol object at 0x7fac8e6917c0&gt;</td>\n",
       "      <td>1.0</td>\n",
       "    </tr>\n",
       "  </tbody>\n",
       "</table>\n",
       "</div>"
      ],
      "text/plain": [
       "                        inchikey  \\\n",
       "2    TTZSNFLLYPYKIL-UHFFFAOYSA-N   \n",
       "4    CUIHSIWYWATEQL-UHFFFAOYSA-N   \n",
       "6    JMGXJHWTVBGOKG-UHFFFAOYSA-N   \n",
       "10   DXCUKNQANPLTEJ-UHFFFAOYSA-N   \n",
       "11   PIQCTGMSNWUMAF-UHFFFAOYSA-N   \n",
       "16   JGEBLDKNWBUGRZ-HXUWFJFHSA-N   \n",
       "18   AQHXGQTWGFVXTB-UHFFFAOYSA-N   \n",
       "23   BUSNTKOLFQPMBH-UHFFFAOYSA-N   \n",
       "24   COJBCAMFZDFGFK-TVSWGBMESA-N   \n",
       "25   COJBCAMFZDFGFK-VCSGLWQLSA-N   \n",
       "30   DQTRACMFIGDHSN-UKFBFLRUSA-N   \n",
       "31   DXCUKNQANPLTEJ-UHFFFAOYSA-N   \n",
       "34   HGJBVDYLOQVDMM-UHFFFAOYSA-N   \n",
       "35   HPDWTQKRQUCMTC-UHFFFAOYSA-N   \n",
       "38   JNDVEAXZWJIOKB-JYRVWZFOSA-N   \n",
       "39   JZVDJULPDILYDY-UHFFFAOYSA-N   \n",
       "45   OVRNDRQMDRJTHS-FMDGEEDCSA-N   \n",
       "52   QADPYRIHXKWUSV-UHFFFAOYSA-N   \n",
       "56   SOZCWCPVKIINOB-UHFFFAOYSA-N   \n",
       "65   YHIGPAIFBVOPKV-UHFFFAOYSA-N   \n",
       "66   YLSKPWFLSHNDEO-UHFFFAOYSA-N   \n",
       "67   ZWCOUICPAQBKJI-UHFFFAOYSA-N   \n",
       "69   YCOYDOIWSSHVCK-UHFFFAOYSA-N   \n",
       "75   PVLOKYREDKFWTF-UHFFFAOYSA-N   \n",
       "76   QVUJFGWIMPTAEH-UHFFFAOYSA-N   \n",
       "84   GMKQAXFNIGTRDK-UHFFFAOYSA-N   \n",
       "88   NMLMUNQQEDDASM-UHFFFAOYSA-N   \n",
       "90   ZKUIGFKRPUCRRC-UHFFFAOYSA-N   \n",
       "96   UJWFQKNVQJGDQI-UHFFFAOYSA-N   \n",
       "103  UZGZLCVPKWOCDZ-UHFFFAOYSA-N   \n",
       "\n",
       "                                                smiles group      activity  \\\n",
       "2    Cc1cc2cc(Oc3ccnc(Nc4cccc(CS(=O)(=O)NCCN(C)C)c4...  test        active   \n",
       "4    Cc1ccc(Nc2nccc(N(C)c3ccc4c(C)n(C)nc4c3)n2)cc1S...  test        active   \n",
       "6    Cc1cc(-c2cc(OC(=O)c3ccccc3)ccc2Cl)cc2nnc(Nc3cc...  test        active   \n",
       "10   CCN(CC)CCCCNc1ncc2cc(-c3cc(OC)cc(OC)c3)c(NC(=O...  test        active   \n",
       "11   CN1CCN(c2ccc3nc(-c4c(N)c5c(F)cccc5[nH]c4=O)[nH...  test        active   \n",
       "16   CN(C[C@@H]1COCCO1)S(=O)(=O)Nc1ccc2ccc3ncc(-c4c...  test        active   \n",
       "18   COc1cc(CCc2[nH]nc(Nc3ccnc(NCc4onc(C)c4)n3)c2)c...  test        active   \n",
       "23   Cc1cc(CNc2ncc(Br)c(Nc3[nH]nc(CCc4ccccc4)c3)n2)on1  test        active   \n",
       "24   O[CH]1O[CH]([CH](O)[CH](O)[CH]1O[S](O)(=O)=O)C...  test        active   \n",
       "25   O[CH]1O[CH]([CH](O)[CH](O)[CH]1O[S](O)(=O)=O)C...  test        active   \n",
       "30   O[CH]1O[CH](CO[S](O)(=O)=O)[CH](O)[CH](O)[CH]1...  test        active   \n",
       "31   CCN(CC)CCCCNc1ncc2cc(c(NC(=O)NC(C)(C)C)nc2n1)c...  test        active   \n",
       "34   CCN1CCN(CC1)c2ccc(Nc3cc(ncn3)N(C)C(=O)Nc4c(Cl)...  test        active   \n",
       "35   CCC(=O)Nc1cccc(C)c1Nc2ncc(OCc3c(Cl)c(OC)cc(OC)...  test        active   \n",
       "38            Cc1c[nH]c(C=C2C(=O)Nc3ccccc23)c1CCC(O)=O  test        active   \n",
       "39   CCN(CC)CCCNc1ncc2cc(c(NC(=O)NC(C)(C)C)nc2n1)c3...  test        active   \n",
       "45           CC(=O)N[CH]1[CH](O)O[CH](CO)[CH](O)[CH]1O  test        active   \n",
       "52   CCN1CCN(CC1)c2ccc(Nc3cc(ncn3)N(C)C(=O)Nc4c(Cl)...  test        active   \n",
       "56   Cn1cc(cn1)c2cnc3cnn(c3c2)[S](=O)(=O)c4cnc5ccc(...  test        active   \n",
       "65   COc1cc(OC)c(Cl)c(N2Cc3cnc(Nc4ccccc4)nc3N(C5CCN...  test        active   \n",
       "66   COc1ccc(CCc2cc([nH]n2)Nc3ccnc(NCc4onc(C)c4)n3)...  test        active   \n",
       "67       Cc1cc(CNc2nccc(Nc3cc(CCc4ccccc4)[nH]n3)n2)on1  test        active   \n",
       "69              Clc1ccc(Nc2nnc(Cc3ccncc3)c3ccccc23)cc1  test      inactive   \n",
       "75       NS(=O)(=O)c1ccc(Nc2cc(-c3cccc(O)c3)n[nH]2)cc1  test       unknown   \n",
       "76    NS(=O)(=O)c1ccc(Nc2cc(-c3ccc(O)c(F)c3)n[nH]2)cc1  test       unknown   \n",
       "84   CN1CCN(c2ccc(Nc3cc4c(cn3)cc(-c3c(Cl)cccc3Cl)c(...  test        active   \n",
       "88   CN1CCN(CCCCCNc2ncc3cc(-c4c(Cl)cccc4Cl)c(=O)n(C...  test        active   \n",
       "90   CCN(CC)CCOc1ccc(Nc2ccc3cc(-c4c(Cl)cccc4Cl)c(=O...  test      inactive   \n",
       "96    CCN(CC)CCNc1ncc2cc(-c3c(Cl)cccc3Cl)c(=O)n(C)c2n1  test      inactive   \n",
       "103           CNc1ncc2cc(-c3c(Cl)cccc3Cl)c(=O)n(C)c2n1  test  intermediate   \n",
       "\n",
       "                                                  mol  predict  \n",
       "2    <rdkit.Chem.rdchem.Mol object at 0x7fac9125e3a0>      1.0  \n",
       "4    <rdkit.Chem.rdchem.Mol object at 0x7fac9125e460>      0.0  \n",
       "6    <rdkit.Chem.rdchem.Mol object at 0x7fac9125e520>      0.0  \n",
       "10   <rdkit.Chem.rdchem.Mol object at 0x7fac9125e6a0>      1.0  \n",
       "11   <rdkit.Chem.rdchem.Mol object at 0x7fac9125e700>      1.0  \n",
       "16   <rdkit.Chem.rdchem.Mol object at 0x7fac9125e8e0>      0.0  \n",
       "18   <rdkit.Chem.rdchem.Mol object at 0x7fac9125e9a0>      1.0  \n",
       "23   <rdkit.Chem.rdchem.Mol object at 0x7fac9125eb80>      1.0  \n",
       "24   <rdkit.Chem.rdchem.Mol object at 0x7fac9125ebe0>      0.0  \n",
       "25   <rdkit.Chem.rdchem.Mol object at 0x7fac9125ec40>      0.0  \n",
       "30   <rdkit.Chem.rdchem.Mol object at 0x7fac9125ee20>      0.0  \n",
       "31   <rdkit.Chem.rdchem.Mol object at 0x7fac9125ee80>      1.0  \n",
       "34   <rdkit.Chem.rdchem.Mol object at 0x7fac9125efa0>      0.0  \n",
       "35   <rdkit.Chem.rdchem.Mol object at 0x7fac8e690040>      1.0  \n",
       "38   <rdkit.Chem.rdchem.Mol object at 0x7fac8e690160>      1.0  \n",
       "39   <rdkit.Chem.rdchem.Mol object at 0x7fac8e6901c0>      1.0  \n",
       "45   <rdkit.Chem.rdchem.Mol object at 0x7fac8e690400>      0.0  \n",
       "52   <rdkit.Chem.rdchem.Mol object at 0x7fac8e6906a0>      0.0  \n",
       "56   <rdkit.Chem.rdchem.Mol object at 0x7fac8e690820>      0.0  \n",
       "65   <rdkit.Chem.rdchem.Mol object at 0x7fac8f988d60>      1.0  \n",
       "66   <rdkit.Chem.rdchem.Mol object at 0x7fac8f988d00>      1.0  \n",
       "67   <rdkit.Chem.rdchem.Mol object at 0x7fac8f988be0>      1.0  \n",
       "69   <rdkit.Chem.rdchem.Mol object at 0x7fac8f988a60>      0.0  \n",
       "75   <rdkit.Chem.rdchem.Mol object at 0x7fac8e690d00>      0.0  \n",
       "76   <rdkit.Chem.rdchem.Mol object at 0x7fac8e690d60>      0.0  \n",
       "84   <rdkit.Chem.rdchem.Mol object at 0x7fac8e6910a0>      1.0  \n",
       "88   <rdkit.Chem.rdchem.Mol object at 0x7fac8e691220>      1.0  \n",
       "90   <rdkit.Chem.rdchem.Mol object at 0x7fac8e6912e0>      0.0  \n",
       "96   <rdkit.Chem.rdchem.Mol object at 0x7fac8e691520>      1.0  \n",
       "103  <rdkit.Chem.rdchem.Mol object at 0x7fac8e6917c0>      1.0  "
      ]
     },
     "execution_count": 47,
     "metadata": {},
     "output_type": "execute_result"
    }
   ],
   "source": [
    "test_data.head(30)"
   ]
  },
  {
   "cell_type": "code",
   "execution_count": null,
   "id": "bbad5e65",
   "metadata": {},
   "outputs": [],
   "source": []
  }
 ],
 "metadata": {
  "kernelspec": {
   "display_name": "Python 3",
   "language": "python",
   "name": "python3"
  },
  "language_info": {
   "codemirror_mode": {
    "name": "ipython",
    "version": 3
   },
   "file_extension": ".py",
   "mimetype": "text/x-python",
   "name": "python",
   "nbconvert_exporter": "python",
   "pygments_lexer": "ipython3",
   "version": "3.8.10"
  }
 },
 "nbformat": 4,
 "nbformat_minor": 5
}
