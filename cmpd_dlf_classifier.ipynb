{
 "cells": [
  {
   "cell_type": "markdown",
   "id": "parliamentary-gossip",
   "metadata": {},
   "source": [
    "# *Data Load*"
   ]
  },
  {
   "cell_type": "code",
   "execution_count": 1,
   "id": "a4413858",
   "metadata": {},
   "outputs": [],
   "source": [
    "import numpy as np\n",
    "import pandas as pd"
   ]
  },
  {
   "cell_type": "code",
   "execution_count": 2,
   "id": "numerical-pharmacy",
   "metadata": {},
   "outputs": [
    {
     "data": {
      "text/html": [
       "<div>\n",
       "<style scoped>\n",
       "    .dataframe tbody tr th:only-of-type {\n",
       "        vertical-align: middle;\n",
       "    }\n",
       "\n",
       "    .dataframe tbody tr th {\n",
       "        vertical-align: top;\n",
       "    }\n",
       "\n",
       "    .dataframe thead th {\n",
       "        text-align: right;\n",
       "    }\n",
       "</style>\n",
       "<table border=\"1\" class=\"dataframe\">\n",
       "  <thead>\n",
       "    <tr style=\"text-align: right;\">\n",
       "      <th></th>\n",
       "      <th>inchikey</th>\n",
       "      <th>smiles</th>\n",
       "      <th>group</th>\n",
       "      <th>activity</th>\n",
       "    </tr>\n",
       "  </thead>\n",
       "  <tbody>\n",
       "    <tr>\n",
       "      <th>0</th>\n",
       "      <td>FNHKPVJBJVTLMP-UHFFFAOYSA-N</td>\n",
       "      <td>CNC(=O)c1cc(Oc2ccc(NC(=O)Nc3ccc(Cl)c(C(F)(F)F)...</td>\n",
       "      <td>train</td>\n",
       "      <td>active</td>\n",
       "    </tr>\n",
       "    <tr>\n",
       "      <th>1</th>\n",
       "      <td>CUDVHEFYRIWYQD-UHFFFAOYSA-N</td>\n",
       "      <td>CNC(=O)c1cccc2cc(Oc3ccnc4cc(OCC5(N)CC5)c(OC)cc...</td>\n",
       "      <td>train</td>\n",
       "      <td>active</td>\n",
       "    </tr>\n",
       "    <tr>\n",
       "      <th>2</th>\n",
       "      <td>TTZSNFLLYPYKIL-UHFFFAOYSA-N</td>\n",
       "      <td>Cc1cc2cc(Oc3ccnc(Nc4cccc(CS(=O)(=O)NCCN(C)C)c4...</td>\n",
       "      <td>test</td>\n",
       "      <td>active</td>\n",
       "    </tr>\n",
       "    <tr>\n",
       "      <th>3</th>\n",
       "      <td>UOVCGJXDGOGOCZ-UHFFFAOYSA-N</td>\n",
       "      <td>COc1cc2c(cc1F)C(c1ccccc1Cl)=Nc1c(n[nH]c1C)N2</td>\n",
       "      <td>train</td>\n",
       "      <td>active</td>\n",
       "    </tr>\n",
       "    <tr>\n",
       "      <th>4</th>\n",
       "      <td>CUIHSIWYWATEQL-UHFFFAOYSA-N</td>\n",
       "      <td>Cc1ccc(Nc2nccc(N(C)c3ccc4c(C)n(C)nc4c3)n2)cc1S...</td>\n",
       "      <td>test</td>\n",
       "      <td>active</td>\n",
       "    </tr>\n",
       "  </tbody>\n",
       "</table>\n",
       "</div>"
      ],
      "text/plain": [
       "                      inchikey  \\\n",
       "0  FNHKPVJBJVTLMP-UHFFFAOYSA-N   \n",
       "1  CUDVHEFYRIWYQD-UHFFFAOYSA-N   \n",
       "2  TTZSNFLLYPYKIL-UHFFFAOYSA-N   \n",
       "3  UOVCGJXDGOGOCZ-UHFFFAOYSA-N   \n",
       "4  CUIHSIWYWATEQL-UHFFFAOYSA-N   \n",
       "\n",
       "                                              smiles  group activity  \n",
       "0  CNC(=O)c1cc(Oc2ccc(NC(=O)Nc3ccc(Cl)c(C(F)(F)F)...  train   active  \n",
       "1  CNC(=O)c1cccc2cc(Oc3ccnc4cc(OCC5(N)CC5)c(OC)cc...  train   active  \n",
       "2  Cc1cc2cc(Oc3ccnc(Nc4cccc(CS(=O)(=O)NCCN(C)C)c4...   test   active  \n",
       "3       COc1cc2c(cc1F)C(c1ccccc1Cl)=Nc1c(n[nH]c1C)N2  train   active  \n",
       "4  Cc1ccc(Nc2nccc(N(C)c3ccc4c(C)n(C)nc4c3)n2)cc1S...   test   active  "
      ]
     },
     "execution_count": 2,
     "metadata": {},
     "output_type": "execute_result"
    }
   ],
   "source": [
    "df = pd.read_csv('./data/cmpd.csv')\n",
    "df.head()"
   ]
  },
  {
   "cell_type": "code",
   "execution_count": 3,
   "id": "occupational-forum",
   "metadata": {},
   "outputs": [
    {
     "data": {
      "text/plain": [
       "(5530, 4)"
      ]
     },
     "execution_count": 3,
     "metadata": {},
     "output_type": "execute_result"
    }
   ],
   "source": [
    "df.shape"
   ]
  },
  {
   "cell_type": "markdown",
   "id": "dec6d960",
   "metadata": {},
   "source": [
    "# *Data Processing*"
   ]
  },
  {
   "cell_type": "code",
   "execution_count": 4,
   "id": "4a9dfad5",
   "metadata": {},
   "outputs": [],
   "source": [
    "import rdkit.Chem as Chem\n",
    "import rdkit.Chem.AllChem as AllChem"
   ]
  },
  {
   "cell_type": "code",
   "execution_count": 5,
   "id": "blond-carpet",
   "metadata": {},
   "outputs": [],
   "source": [
    "df['mol'] = df.smiles.apply(Chem.MolFromSmiles)"
   ]
  },
  {
   "cell_type": "code",
   "execution_count": 6,
   "id": "geographic-reverse",
   "metadata": {},
   "outputs": [
    {
     "data": {
      "text/html": [
       "<div>\n",
       "<style scoped>\n",
       "    .dataframe tbody tr th:only-of-type {\n",
       "        vertical-align: middle;\n",
       "    }\n",
       "\n",
       "    .dataframe tbody tr th {\n",
       "        vertical-align: top;\n",
       "    }\n",
       "\n",
       "    .dataframe thead th {\n",
       "        text-align: right;\n",
       "    }\n",
       "</style>\n",
       "<table border=\"1\" class=\"dataframe\">\n",
       "  <thead>\n",
       "    <tr style=\"text-align: right;\">\n",
       "      <th></th>\n",
       "      <th>inchikey</th>\n",
       "      <th>smiles</th>\n",
       "      <th>group</th>\n",
       "      <th>activity</th>\n",
       "      <th>mol</th>\n",
       "    </tr>\n",
       "  </thead>\n",
       "  <tbody>\n",
       "    <tr>\n",
       "      <th>0</th>\n",
       "      <td>FNHKPVJBJVTLMP-UHFFFAOYSA-N</td>\n",
       "      <td>CNC(=O)c1cc(Oc2ccc(NC(=O)Nc3ccc(Cl)c(C(F)(F)F)...</td>\n",
       "      <td>train</td>\n",
       "      <td>active</td>\n",
       "      <td>&lt;rdkit.Chem.rdchem.Mol object at 0x7f7a3042b3a0&gt;</td>\n",
       "    </tr>\n",
       "    <tr>\n",
       "      <th>1</th>\n",
       "      <td>CUDVHEFYRIWYQD-UHFFFAOYSA-N</td>\n",
       "      <td>CNC(=O)c1cccc2cc(Oc3ccnc4cc(OCC5(N)CC5)c(OC)cc...</td>\n",
       "      <td>train</td>\n",
       "      <td>active</td>\n",
       "      <td>&lt;rdkit.Chem.rdchem.Mol object at 0x7f7a3042b3f0&gt;</td>\n",
       "    </tr>\n",
       "    <tr>\n",
       "      <th>2</th>\n",
       "      <td>TTZSNFLLYPYKIL-UHFFFAOYSA-N</td>\n",
       "      <td>Cc1cc2cc(Oc3ccnc(Nc4cccc(CS(=O)(=O)NCCN(C)C)c4...</td>\n",
       "      <td>test</td>\n",
       "      <td>active</td>\n",
       "      <td>&lt;rdkit.Chem.rdchem.Mol object at 0x7f7a3042b350&gt;</td>\n",
       "    </tr>\n",
       "    <tr>\n",
       "      <th>3</th>\n",
       "      <td>UOVCGJXDGOGOCZ-UHFFFAOYSA-N</td>\n",
       "      <td>COc1cc2c(cc1F)C(c1ccccc1Cl)=Nc1c(n[nH]c1C)N2</td>\n",
       "      <td>train</td>\n",
       "      <td>active</td>\n",
       "      <td>&lt;rdkit.Chem.rdchem.Mol object at 0x7f7a3042b440&gt;</td>\n",
       "    </tr>\n",
       "    <tr>\n",
       "      <th>4</th>\n",
       "      <td>CUIHSIWYWATEQL-UHFFFAOYSA-N</td>\n",
       "      <td>Cc1ccc(Nc2nccc(N(C)c3ccc4c(C)n(C)nc4c3)n2)cc1S...</td>\n",
       "      <td>test</td>\n",
       "      <td>active</td>\n",
       "      <td>&lt;rdkit.Chem.rdchem.Mol object at 0x7f7a3042b490&gt;</td>\n",
       "    </tr>\n",
       "  </tbody>\n",
       "</table>\n",
       "</div>"
      ],
      "text/plain": [
       "                      inchikey  \\\n",
       "0  FNHKPVJBJVTLMP-UHFFFAOYSA-N   \n",
       "1  CUDVHEFYRIWYQD-UHFFFAOYSA-N   \n",
       "2  TTZSNFLLYPYKIL-UHFFFAOYSA-N   \n",
       "3  UOVCGJXDGOGOCZ-UHFFFAOYSA-N   \n",
       "4  CUIHSIWYWATEQL-UHFFFAOYSA-N   \n",
       "\n",
       "                                              smiles  group activity  \\\n",
       "0  CNC(=O)c1cc(Oc2ccc(NC(=O)Nc3ccc(Cl)c(C(F)(F)F)...  train   active   \n",
       "1  CNC(=O)c1cccc2cc(Oc3ccnc4cc(OCC5(N)CC5)c(OC)cc...  train   active   \n",
       "2  Cc1cc2cc(Oc3ccnc(Nc4cccc(CS(=O)(=O)NCCN(C)C)c4...   test   active   \n",
       "3       COc1cc2c(cc1F)C(c1ccccc1Cl)=Nc1c(n[nH]c1C)N2  train   active   \n",
       "4  Cc1ccc(Nc2nccc(N(C)c3ccc4c(C)n(C)nc4c3)n2)cc1S...   test   active   \n",
       "\n",
       "                                                mol  \n",
       "0  <rdkit.Chem.rdchem.Mol object at 0x7f7a3042b3a0>  \n",
       "1  <rdkit.Chem.rdchem.Mol object at 0x7f7a3042b3f0>  \n",
       "2  <rdkit.Chem.rdchem.Mol object at 0x7f7a3042b350>  \n",
       "3  <rdkit.Chem.rdchem.Mol object at 0x7f7a3042b440>  \n",
       "4  <rdkit.Chem.rdchem.Mol object at 0x7f7a3042b490>  "
      ]
     },
     "execution_count": 6,
     "metadata": {},
     "output_type": "execute_result"
    }
   ],
   "source": [
    "df.head()"
   ]
  },
  {
   "cell_type": "code",
   "execution_count": 7,
   "id": "79fefeab",
   "metadata": {},
   "outputs": [
    {
     "name": "stdout",
     "output_type": "stream",
     "text": [
      "[[0]\n",
      " [0]\n",
      " [0]\n",
      " ...\n",
      " [0]\n",
      " [0]\n",
      " [0]]\n"
     ]
    }
   ],
   "source": [
    "temp = AllChem.GetMorganFingerprintAsBitVect(df.mol[0], 4, nBits=2048)\n",
    "print(np.vstack(temp))"
   ]
  },
  {
   "cell_type": "code",
   "execution_count": 8,
   "id": "94df5708",
   "metadata": {},
   "outputs": [],
   "source": [
    "# with minimal modification, we obtain the fingerprint vector using RDKit\n",
    "\n",
    "def get_Xy(df):\n",
    "    X = np.vstack(df.mol.apply(lambda m: list(AllChem.GetMorganFingerprintAsBitVect(m, 4, nBits=2048))))\n",
    "    y = df.activity.eq('active').astype(float).to_numpy()\n",
    "    return X, y "
   ]
  },
  {
   "cell_type": "code",
   "execution_count": 9,
   "id": "deb2e798",
   "metadata": {},
   "outputs": [],
   "source": [
    "X_train, y_train = get_Xy(df[df.group.eq('train')])\n",
    "X_test, y_test = get_Xy(df[df.group.eq('test')])"
   ]
  },
  {
   "cell_type": "code",
   "execution_count": 10,
   "id": "fe897e37",
   "metadata": {},
   "outputs": [
    {
     "name": "stdout",
     "output_type": "stream",
     "text": [
      "[[0 0 0 ... 0 0 0]\n",
      " [0 0 1 ... 0 0 0]\n",
      " [0 1 0 ... 0 1 0]\n",
      " ...\n",
      " [0 0 0 ... 0 0 1]\n",
      " [0 0 0 ... 0 0 1]\n",
      " [0 0 0 ... 0 0 1]]\n"
     ]
    }
   ],
   "source": [
    "print(X_train)"
   ]
  },
  {
   "cell_type": "code",
   "execution_count": 11,
   "id": "a58e07c5",
   "metadata": {},
   "outputs": [
    {
     "name": "stdout",
     "output_type": "stream",
     "text": [
      "[1. 1. 1. ... 0. 0. 0.]\n"
     ]
    }
   ],
   "source": [
    "print(y_train)"
   ]
  },
  {
   "cell_type": "code",
   "execution_count": 12,
   "id": "88ca5b1c",
   "metadata": {},
   "outputs": [
    {
     "name": "stdout",
     "output_type": "stream",
     "text": [
      "[[0 0 0 ... 0 0 1]\n",
      " [0 0 0 ... 0 0 0]\n",
      " [0 0 0 ... 0 0 0]\n",
      " ...\n",
      " [0 0 0 ... 0 0 0]\n",
      " [0 0 0 ... 0 0 0]\n",
      " [0 0 0 ... 0 0 0]]\n"
     ]
    }
   ],
   "source": [
    "print(X_test)"
   ]
  },
  {
   "cell_type": "code",
   "execution_count": 13,
   "id": "7bb58702",
   "metadata": {},
   "outputs": [
    {
     "name": "stdout",
     "output_type": "stream",
     "text": [
      "[1. 1. 1. ... 0. 0. 0.]\n"
     ]
    }
   ],
   "source": [
    "print(y_test)"
   ]
  },
  {
   "cell_type": "markdown",
   "id": "a7e60535",
   "metadata": {},
   "source": [
    "# *Sklearn Model Test*"
   ]
  },
  {
   "cell_type": "code",
   "execution_count": 14,
   "id": "a7b3b00b",
   "metadata": {},
   "outputs": [],
   "source": [
    "from sklearn.svm import SVC\n",
    "from sklearn.ensemble import RandomForestClassifier\n",
    "import sklearn.metrics as metrics"
   ]
  },
  {
   "cell_type": "markdown",
   "id": "301c3616",
   "metadata": {},
   "source": [
    "## *RF*"
   ]
  },
  {
   "cell_type": "code",
   "execution_count": 15,
   "id": "5c766fed",
   "metadata": {},
   "outputs": [
    {
     "data": {
      "text/plain": [
       "0.8622021893110109"
      ]
     },
     "execution_count": 15,
     "metadata": {},
     "output_type": "execute_result"
    }
   ],
   "source": [
    "clf = RandomForestClassifier()\n",
    "clf.fit(X_train, y_train)\n",
    "clf.score(X_test, y_test)"
   ]
  },
  {
   "cell_type": "code",
   "execution_count": 16,
   "id": "d7044e28",
   "metadata": {},
   "outputs": [
    {
     "name": "stdout",
     "output_type": "stream",
     "text": [
      "[0.52       0.48       0.33333333 ... 0.49       0.25       0.4       ]\n"
     ]
    }
   ],
   "source": [
    "y_pred = clf.predict_proba(X_test)[:, 1]\n",
    "print(y_pred)"
   ]
  },
  {
   "cell_type": "markdown",
   "id": "a65f351a",
   "metadata": {},
   "source": [
    "### *metrics*"
   ]
  },
  {
   "cell_type": "code",
   "execution_count": 17,
   "id": "c44e5345",
   "metadata": {},
   "outputs": [
    {
     "data": {
      "text/plain": [
       "0.42002783476381417"
      ]
     },
     "execution_count": 17,
     "metadata": {},
     "output_type": "execute_result"
    }
   ],
   "source": [
    "# logloss\n",
    "metrics.log_loss(y_test, y_pred, labels=[0, 1])"
   ]
  },
  {
   "cell_type": "code",
   "execution_count": 18,
   "id": "99fe2e35",
   "metadata": {},
   "outputs": [
    {
     "data": {
      "text/plain": [
       "0.8761509861674194"
      ]
     },
     "execution_count": 18,
     "metadata": {},
     "output_type": "execute_result"
    }
   ],
   "source": [
    "# AUC PRC\n",
    "precision, recall, _ = metrics.precision_recall_curve(y_test, y_pred, pos_label=1)\n",
    "metrics.auc(recall, precision)"
   ]
  },
  {
   "cell_type": "code",
   "execution_count": 19,
   "id": "71ebe3b7",
   "metadata": {},
   "outputs": [
    {
     "data": {
      "text/plain": [
       "0.8937501125700187"
      ]
     },
     "execution_count": 19,
     "metadata": {},
     "output_type": "execute_result"
    }
   ],
   "source": [
    "# AUC ROC\n",
    "fpr_roc, tpr_roc, _ = metrics.roc_curve(y_test, y_pred, pos_label=1)\n",
    "metrics.auc(fpr_roc, tpr_roc)"
   ]
  },
  {
   "cell_type": "markdown",
   "id": "b28e7dfa",
   "metadata": {},
   "source": [
    "## *SVM*"
   ]
  },
  {
   "cell_type": "code",
   "execution_count": 20,
   "id": "a1205ed3",
   "metadata": {},
   "outputs": [
    {
     "data": {
      "text/plain": [
       "0.7475853187379266"
      ]
     },
     "execution_count": 20,
     "metadata": {},
     "output_type": "execute_result"
    }
   ],
   "source": [
    "clf = SVC(C=1, kernel='linear')\n",
    "clf.fit(X_train, y_train)\n",
    "clf.score(X_test, y_test)"
   ]
  },
  {
   "cell_type": "code",
   "execution_count": 21,
   "id": "15f3206a",
   "metadata": {},
   "outputs": [
    {
     "name": "stdout",
     "output_type": "stream",
     "text": [
      "[1. 1. 0. ... 0. 0. 0.]\n"
     ]
    }
   ],
   "source": [
    "y_pred = clf.predict(X_test)\n",
    "print(y_pred)"
   ]
  },
  {
   "cell_type": "markdown",
   "id": "a9daee24",
   "metadata": {},
   "source": [
    "### *metrics*"
   ]
  },
  {
   "cell_type": "code",
   "execution_count": 22,
   "id": "91b3acba",
   "metadata": {},
   "outputs": [
    {
     "name": "stdout",
     "output_type": "stream",
     "text": [
      "accuracy : 0.7475853187379266\n",
      "mac_f1score : 0.739777930520362\n",
      "mic_f1score : 0.7475853187379266\n"
     ]
    }
   ],
   "source": [
    "accuracy = metrics.accuracy_score(y_test, y_pred)\n",
    "mac_f1score = metrics.f1_score(y_test, y_pred, average='macro')\n",
    "mic_f1score = metrics.f1_score(y_test, y_pred, average='micro')\n",
    "                               \n",
    "print(f\"accuracy : {accuracy}\")\n",
    "print(f\"mac_f1score : {mac_f1score}\")\n",
    "print(f\"mic_f1score : {mic_f1score}\")"
   ]
  },
  {
   "cell_type": "markdown",
   "id": "a0a5a4f7",
   "metadata": {},
   "source": [
    "### *labeling*"
   ]
  },
  {
   "cell_type": "code",
   "execution_count": 23,
   "id": "4c264400",
   "metadata": {},
   "outputs": [],
   "source": [
    "test_data = df[df.group.eq('test')]"
   ]
  },
  {
   "cell_type": "code",
   "execution_count": 24,
   "id": "3dd95d64",
   "metadata": {},
   "outputs": [
    {
     "name": "stdout",
     "output_type": "stream",
     "text": [
      "inchikey    1553\n",
      "smiles      1553\n",
      "group       1553\n",
      "activity    1553\n",
      "mol         1553\n",
      "dtype: int64\n",
      "1553\n"
     ]
    }
   ],
   "source": [
    "print(test_data.count())\n",
    "print(len(test_data))"
   ]
  },
  {
   "cell_type": "code",
   "execution_count": 25,
   "id": "c8088159",
   "metadata": {},
   "outputs": [
    {
     "name": "stderr",
     "output_type": "stream",
     "text": [
      "/home/ai/.local/lib/python3.8/site-packages/pandas/core/frame.py:3607: SettingWithCopyWarning: \n",
      "A value is trying to be set on a copy of a slice from a DataFrame.\n",
      "Try using .loc[row_indexer,col_indexer] = value instead\n",
      "\n",
      "See the caveats in the documentation: https://pandas.pydata.org/pandas-docs/stable/user_guide/indexing.html#returning-a-view-versus-a-copy\n",
      "  self._set_item(key, value)\n"
     ]
    }
   ],
   "source": [
    "test_data['predict'] = y_pred\n",
    "test_data = test_data[['inchikey', 'smiles', 'predict']]"
   ]
  },
  {
   "cell_type": "code",
   "execution_count": 26,
   "id": "5f7ea380",
   "metadata": {},
   "outputs": [
    {
     "data": {
      "text/html": [
       "<div>\n",
       "<style scoped>\n",
       "    .dataframe tbody tr th:only-of-type {\n",
       "        vertical-align: middle;\n",
       "    }\n",
       "\n",
       "    .dataframe tbody tr th {\n",
       "        vertical-align: top;\n",
       "    }\n",
       "\n",
       "    .dataframe thead th {\n",
       "        text-align: right;\n",
       "    }\n",
       "</style>\n",
       "<table border=\"1\" class=\"dataframe\">\n",
       "  <thead>\n",
       "    <tr style=\"text-align: right;\">\n",
       "      <th></th>\n",
       "      <th>inchikey</th>\n",
       "      <th>smiles</th>\n",
       "      <th>predict</th>\n",
       "    </tr>\n",
       "  </thead>\n",
       "  <tbody>\n",
       "    <tr>\n",
       "      <th>2</th>\n",
       "      <td>TTZSNFLLYPYKIL-UHFFFAOYSA-N</td>\n",
       "      <td>Cc1cc2cc(Oc3ccnc(Nc4cccc(CS(=O)(=O)NCCN(C)C)c4...</td>\n",
       "      <td>1.0</td>\n",
       "    </tr>\n",
       "    <tr>\n",
       "      <th>4</th>\n",
       "      <td>CUIHSIWYWATEQL-UHFFFAOYSA-N</td>\n",
       "      <td>Cc1ccc(Nc2nccc(N(C)c3ccc4c(C)n(C)nc4c3)n2)cc1S...</td>\n",
       "      <td>1.0</td>\n",
       "    </tr>\n",
       "    <tr>\n",
       "      <th>6</th>\n",
       "      <td>JMGXJHWTVBGOKG-UHFFFAOYSA-N</td>\n",
       "      <td>Cc1cc(-c2cc(OC(=O)c3ccccc3)ccc2Cl)cc2nnc(Nc3cc...</td>\n",
       "      <td>0.0</td>\n",
       "    </tr>\n",
       "    <tr>\n",
       "      <th>10</th>\n",
       "      <td>DXCUKNQANPLTEJ-UHFFFAOYSA-N</td>\n",
       "      <td>CCN(CC)CCCCNc1ncc2cc(-c3cc(OC)cc(OC)c3)c(NC(=O...</td>\n",
       "      <td>1.0</td>\n",
       "    </tr>\n",
       "    <tr>\n",
       "      <th>11</th>\n",
       "      <td>PIQCTGMSNWUMAF-UHFFFAOYSA-N</td>\n",
       "      <td>CN1CCN(c2ccc3nc(-c4c(N)c5c(F)cccc5[nH]c4=O)[nH...</td>\n",
       "      <td>1.0</td>\n",
       "    </tr>\n",
       "    <tr>\n",
       "      <th>16</th>\n",
       "      <td>JGEBLDKNWBUGRZ-HXUWFJFHSA-N</td>\n",
       "      <td>CN(C[C@@H]1COCCO1)S(=O)(=O)Nc1ccc2ccc3ncc(-c4c...</td>\n",
       "      <td>0.0</td>\n",
       "    </tr>\n",
       "    <tr>\n",
       "      <th>18</th>\n",
       "      <td>AQHXGQTWGFVXTB-UHFFFAOYSA-N</td>\n",
       "      <td>COc1cc(CCc2[nH]nc(Nc3ccnc(NCc4onc(C)c4)n3)c2)c...</td>\n",
       "      <td>1.0</td>\n",
       "    </tr>\n",
       "    <tr>\n",
       "      <th>23</th>\n",
       "      <td>BUSNTKOLFQPMBH-UHFFFAOYSA-N</td>\n",
       "      <td>Cc1cc(CNc2ncc(Br)c(Nc3[nH]nc(CCc4ccccc4)c3)n2)on1</td>\n",
       "      <td>1.0</td>\n",
       "    </tr>\n",
       "    <tr>\n",
       "      <th>24</th>\n",
       "      <td>COJBCAMFZDFGFK-TVSWGBMESA-N</td>\n",
       "      <td>O[CH]1O[CH]([CH](O)[CH](O)[CH]1O[S](O)(=O)=O)C...</td>\n",
       "      <td>0.0</td>\n",
       "    </tr>\n",
       "    <tr>\n",
       "      <th>25</th>\n",
       "      <td>COJBCAMFZDFGFK-VCSGLWQLSA-N</td>\n",
       "      <td>O[CH]1O[CH]([CH](O)[CH](O)[CH]1O[S](O)(=O)=O)C...</td>\n",
       "      <td>0.0</td>\n",
       "    </tr>\n",
       "    <tr>\n",
       "      <th>30</th>\n",
       "      <td>DQTRACMFIGDHSN-UKFBFLRUSA-N</td>\n",
       "      <td>O[CH]1O[CH](CO[S](O)(=O)=O)[CH](O)[CH](O)[CH]1...</td>\n",
       "      <td>0.0</td>\n",
       "    </tr>\n",
       "    <tr>\n",
       "      <th>31</th>\n",
       "      <td>DXCUKNQANPLTEJ-UHFFFAOYSA-N</td>\n",
       "      <td>CCN(CC)CCCCNc1ncc2cc(c(NC(=O)NC(C)(C)C)nc2n1)c...</td>\n",
       "      <td>1.0</td>\n",
       "    </tr>\n",
       "    <tr>\n",
       "      <th>34</th>\n",
       "      <td>HGJBVDYLOQVDMM-UHFFFAOYSA-N</td>\n",
       "      <td>CCN1CCN(CC1)c2ccc(Nc3cc(ncn3)N(C)C(=O)Nc4c(Cl)...</td>\n",
       "      <td>0.0</td>\n",
       "    </tr>\n",
       "    <tr>\n",
       "      <th>35</th>\n",
       "      <td>HPDWTQKRQUCMTC-UHFFFAOYSA-N</td>\n",
       "      <td>CCC(=O)Nc1cccc(C)c1Nc2ncc(OCc3c(Cl)c(OC)cc(OC)...</td>\n",
       "      <td>1.0</td>\n",
       "    </tr>\n",
       "    <tr>\n",
       "      <th>38</th>\n",
       "      <td>JNDVEAXZWJIOKB-JYRVWZFOSA-N</td>\n",
       "      <td>Cc1c[nH]c(C=C2C(=O)Nc3ccccc23)c1CCC(O)=O</td>\n",
       "      <td>1.0</td>\n",
       "    </tr>\n",
       "    <tr>\n",
       "      <th>39</th>\n",
       "      <td>JZVDJULPDILYDY-UHFFFAOYSA-N</td>\n",
       "      <td>CCN(CC)CCCNc1ncc2cc(c(NC(=O)NC(C)(C)C)nc2n1)c3...</td>\n",
       "      <td>1.0</td>\n",
       "    </tr>\n",
       "    <tr>\n",
       "      <th>45</th>\n",
       "      <td>OVRNDRQMDRJTHS-FMDGEEDCSA-N</td>\n",
       "      <td>CC(=O)N[CH]1[CH](O)O[CH](CO)[CH](O)[CH]1O</td>\n",
       "      <td>0.0</td>\n",
       "    </tr>\n",
       "    <tr>\n",
       "      <th>52</th>\n",
       "      <td>QADPYRIHXKWUSV-UHFFFAOYSA-N</td>\n",
       "      <td>CCN1CCN(CC1)c2ccc(Nc3cc(ncn3)N(C)C(=O)Nc4c(Cl)...</td>\n",
       "      <td>0.0</td>\n",
       "    </tr>\n",
       "    <tr>\n",
       "      <th>56</th>\n",
       "      <td>SOZCWCPVKIINOB-UHFFFAOYSA-N</td>\n",
       "      <td>Cn1cc(cn1)c2cnc3cnn(c3c2)[S](=O)(=O)c4cnc5ccc(...</td>\n",
       "      <td>0.0</td>\n",
       "    </tr>\n",
       "    <tr>\n",
       "      <th>65</th>\n",
       "      <td>YHIGPAIFBVOPKV-UHFFFAOYSA-N</td>\n",
       "      <td>COc1cc(OC)c(Cl)c(N2Cc3cnc(Nc4ccccc4)nc3N(C5CCN...</td>\n",
       "      <td>1.0</td>\n",
       "    </tr>\n",
       "    <tr>\n",
       "      <th>66</th>\n",
       "      <td>YLSKPWFLSHNDEO-UHFFFAOYSA-N</td>\n",
       "      <td>COc1ccc(CCc2cc([nH]n2)Nc3ccnc(NCc4onc(C)c4)n3)...</td>\n",
       "      <td>1.0</td>\n",
       "    </tr>\n",
       "    <tr>\n",
       "      <th>67</th>\n",
       "      <td>ZWCOUICPAQBKJI-UHFFFAOYSA-N</td>\n",
       "      <td>Cc1cc(CNc2nccc(Nc3cc(CCc4ccccc4)[nH]n3)n2)on1</td>\n",
       "      <td>1.0</td>\n",
       "    </tr>\n",
       "    <tr>\n",
       "      <th>69</th>\n",
       "      <td>YCOYDOIWSSHVCK-UHFFFAOYSA-N</td>\n",
       "      <td>Clc1ccc(Nc2nnc(Cc3ccncc3)c3ccccc23)cc1</td>\n",
       "      <td>0.0</td>\n",
       "    </tr>\n",
       "    <tr>\n",
       "      <th>75</th>\n",
       "      <td>PVLOKYREDKFWTF-UHFFFAOYSA-N</td>\n",
       "      <td>NS(=O)(=O)c1ccc(Nc2cc(-c3cccc(O)c3)n[nH]2)cc1</td>\n",
       "      <td>1.0</td>\n",
       "    </tr>\n",
       "    <tr>\n",
       "      <th>76</th>\n",
       "      <td>QVUJFGWIMPTAEH-UHFFFAOYSA-N</td>\n",
       "      <td>NS(=O)(=O)c1ccc(Nc2cc(-c3ccc(O)c(F)c3)n[nH]2)cc1</td>\n",
       "      <td>1.0</td>\n",
       "    </tr>\n",
       "    <tr>\n",
       "      <th>84</th>\n",
       "      <td>GMKQAXFNIGTRDK-UHFFFAOYSA-N</td>\n",
       "      <td>CN1CCN(c2ccc(Nc3cc4c(cn3)cc(-c3c(Cl)cccc3Cl)c(...</td>\n",
       "      <td>0.0</td>\n",
       "    </tr>\n",
       "    <tr>\n",
       "      <th>88</th>\n",
       "      <td>NMLMUNQQEDDASM-UHFFFAOYSA-N</td>\n",
       "      <td>CN1CCN(CCCCCNc2ncc3cc(-c4c(Cl)cccc4Cl)c(=O)n(C...</td>\n",
       "      <td>1.0</td>\n",
       "    </tr>\n",
       "    <tr>\n",
       "      <th>90</th>\n",
       "      <td>ZKUIGFKRPUCRRC-UHFFFAOYSA-N</td>\n",
       "      <td>CCN(CC)CCOc1ccc(Nc2ccc3cc(-c4c(Cl)cccc4Cl)c(=O...</td>\n",
       "      <td>0.0</td>\n",
       "    </tr>\n",
       "    <tr>\n",
       "      <th>96</th>\n",
       "      <td>UJWFQKNVQJGDQI-UHFFFAOYSA-N</td>\n",
       "      <td>CCN(CC)CCNc1ncc2cc(-c3c(Cl)cccc3Cl)c(=O)n(C)c2n1</td>\n",
       "      <td>0.0</td>\n",
       "    </tr>\n",
       "    <tr>\n",
       "      <th>103</th>\n",
       "      <td>UZGZLCVPKWOCDZ-UHFFFAOYSA-N</td>\n",
       "      <td>CNc1ncc2cc(-c3c(Cl)cccc3Cl)c(=O)n(C)c2n1</td>\n",
       "      <td>0.0</td>\n",
       "    </tr>\n",
       "  </tbody>\n",
       "</table>\n",
       "</div>"
      ],
      "text/plain": [
       "                        inchikey  \\\n",
       "2    TTZSNFLLYPYKIL-UHFFFAOYSA-N   \n",
       "4    CUIHSIWYWATEQL-UHFFFAOYSA-N   \n",
       "6    JMGXJHWTVBGOKG-UHFFFAOYSA-N   \n",
       "10   DXCUKNQANPLTEJ-UHFFFAOYSA-N   \n",
       "11   PIQCTGMSNWUMAF-UHFFFAOYSA-N   \n",
       "16   JGEBLDKNWBUGRZ-HXUWFJFHSA-N   \n",
       "18   AQHXGQTWGFVXTB-UHFFFAOYSA-N   \n",
       "23   BUSNTKOLFQPMBH-UHFFFAOYSA-N   \n",
       "24   COJBCAMFZDFGFK-TVSWGBMESA-N   \n",
       "25   COJBCAMFZDFGFK-VCSGLWQLSA-N   \n",
       "30   DQTRACMFIGDHSN-UKFBFLRUSA-N   \n",
       "31   DXCUKNQANPLTEJ-UHFFFAOYSA-N   \n",
       "34   HGJBVDYLOQVDMM-UHFFFAOYSA-N   \n",
       "35   HPDWTQKRQUCMTC-UHFFFAOYSA-N   \n",
       "38   JNDVEAXZWJIOKB-JYRVWZFOSA-N   \n",
       "39   JZVDJULPDILYDY-UHFFFAOYSA-N   \n",
       "45   OVRNDRQMDRJTHS-FMDGEEDCSA-N   \n",
       "52   QADPYRIHXKWUSV-UHFFFAOYSA-N   \n",
       "56   SOZCWCPVKIINOB-UHFFFAOYSA-N   \n",
       "65   YHIGPAIFBVOPKV-UHFFFAOYSA-N   \n",
       "66   YLSKPWFLSHNDEO-UHFFFAOYSA-N   \n",
       "67   ZWCOUICPAQBKJI-UHFFFAOYSA-N   \n",
       "69   YCOYDOIWSSHVCK-UHFFFAOYSA-N   \n",
       "75   PVLOKYREDKFWTF-UHFFFAOYSA-N   \n",
       "76   QVUJFGWIMPTAEH-UHFFFAOYSA-N   \n",
       "84   GMKQAXFNIGTRDK-UHFFFAOYSA-N   \n",
       "88   NMLMUNQQEDDASM-UHFFFAOYSA-N   \n",
       "90   ZKUIGFKRPUCRRC-UHFFFAOYSA-N   \n",
       "96   UJWFQKNVQJGDQI-UHFFFAOYSA-N   \n",
       "103  UZGZLCVPKWOCDZ-UHFFFAOYSA-N   \n",
       "\n",
       "                                                smiles  predict  \n",
       "2    Cc1cc2cc(Oc3ccnc(Nc4cccc(CS(=O)(=O)NCCN(C)C)c4...      1.0  \n",
       "4    Cc1ccc(Nc2nccc(N(C)c3ccc4c(C)n(C)nc4c3)n2)cc1S...      1.0  \n",
       "6    Cc1cc(-c2cc(OC(=O)c3ccccc3)ccc2Cl)cc2nnc(Nc3cc...      0.0  \n",
       "10   CCN(CC)CCCCNc1ncc2cc(-c3cc(OC)cc(OC)c3)c(NC(=O...      1.0  \n",
       "11   CN1CCN(c2ccc3nc(-c4c(N)c5c(F)cccc5[nH]c4=O)[nH...      1.0  \n",
       "16   CN(C[C@@H]1COCCO1)S(=O)(=O)Nc1ccc2ccc3ncc(-c4c...      0.0  \n",
       "18   COc1cc(CCc2[nH]nc(Nc3ccnc(NCc4onc(C)c4)n3)c2)c...      1.0  \n",
       "23   Cc1cc(CNc2ncc(Br)c(Nc3[nH]nc(CCc4ccccc4)c3)n2)on1      1.0  \n",
       "24   O[CH]1O[CH]([CH](O)[CH](O)[CH]1O[S](O)(=O)=O)C...      0.0  \n",
       "25   O[CH]1O[CH]([CH](O)[CH](O)[CH]1O[S](O)(=O)=O)C...      0.0  \n",
       "30   O[CH]1O[CH](CO[S](O)(=O)=O)[CH](O)[CH](O)[CH]1...      0.0  \n",
       "31   CCN(CC)CCCCNc1ncc2cc(c(NC(=O)NC(C)(C)C)nc2n1)c...      1.0  \n",
       "34   CCN1CCN(CC1)c2ccc(Nc3cc(ncn3)N(C)C(=O)Nc4c(Cl)...      0.0  \n",
       "35   CCC(=O)Nc1cccc(C)c1Nc2ncc(OCc3c(Cl)c(OC)cc(OC)...      1.0  \n",
       "38            Cc1c[nH]c(C=C2C(=O)Nc3ccccc23)c1CCC(O)=O      1.0  \n",
       "39   CCN(CC)CCCNc1ncc2cc(c(NC(=O)NC(C)(C)C)nc2n1)c3...      1.0  \n",
       "45           CC(=O)N[CH]1[CH](O)O[CH](CO)[CH](O)[CH]1O      0.0  \n",
       "52   CCN1CCN(CC1)c2ccc(Nc3cc(ncn3)N(C)C(=O)Nc4c(Cl)...      0.0  \n",
       "56   Cn1cc(cn1)c2cnc3cnn(c3c2)[S](=O)(=O)c4cnc5ccc(...      0.0  \n",
       "65   COc1cc(OC)c(Cl)c(N2Cc3cnc(Nc4ccccc4)nc3N(C5CCN...      1.0  \n",
       "66   COc1ccc(CCc2cc([nH]n2)Nc3ccnc(NCc4onc(C)c4)n3)...      1.0  \n",
       "67       Cc1cc(CNc2nccc(Nc3cc(CCc4ccccc4)[nH]n3)n2)on1      1.0  \n",
       "69              Clc1ccc(Nc2nnc(Cc3ccncc3)c3ccccc23)cc1      0.0  \n",
       "75       NS(=O)(=O)c1ccc(Nc2cc(-c3cccc(O)c3)n[nH]2)cc1      1.0  \n",
       "76    NS(=O)(=O)c1ccc(Nc2cc(-c3ccc(O)c(F)c3)n[nH]2)cc1      1.0  \n",
       "84   CN1CCN(c2ccc(Nc3cc4c(cn3)cc(-c3c(Cl)cccc3Cl)c(...      0.0  \n",
       "88   CN1CCN(CCCCCNc2ncc3cc(-c4c(Cl)cccc4Cl)c(=O)n(C...      1.0  \n",
       "90   CCN(CC)CCOc1ccc(Nc2ccc3cc(-c4c(Cl)cccc4Cl)c(=O...      0.0  \n",
       "96    CCN(CC)CCNc1ncc2cc(-c3c(Cl)cccc3Cl)c(=O)n(C)c2n1      0.0  \n",
       "103           CNc1ncc2cc(-c3c(Cl)cccc3Cl)c(=O)n(C)c2n1      0.0  "
      ]
     },
     "execution_count": 26,
     "metadata": {},
     "output_type": "execute_result"
    }
   ],
   "source": [
    "test_data.head(30)"
   ]
  },
  {
   "cell_type": "markdown",
   "id": "5bd7ae44",
   "metadata": {},
   "source": [
    "# *NN(Neural Network) Model*"
   ]
  },
  {
   "cell_type": "code",
   "execution_count": 27,
   "id": "2dab25d3",
   "metadata": {},
   "outputs": [],
   "source": [
    "from keras import models\n",
    "from keras import layers\n",
    "from keras import optimizers\n",
    "import tensorflow as tf"
   ]
  },
  {
   "cell_type": "code",
   "execution_count": 31,
   "id": "4f8abd88",
   "metadata": {},
   "outputs": [],
   "source": [
    "model = models.Sequential()\n",
    "model.add(layers.Dense(16, activation='relu', input_shape=(2048,)))\n",
    "model.add(layers.Dense(16, activation='relu'))\n",
    "model.add(layers.Dense(1, activation='sigmoid'))"
   ]
  },
  {
   "cell_type": "code",
   "execution_count": 32,
   "id": "3e593844",
   "metadata": {},
   "outputs": [],
   "source": [
    "model.compile(optimizer=tf.keras.optimizers.Adam(learning_rate=0.001),\n",
    "              loss='mse',\n",
    "              metrics=['accuracy'])"
   ]
  },
  {
   "cell_type": "code",
   "execution_count": 33,
   "id": "narrow-navigation",
   "metadata": {},
   "outputs": [
    {
     "name": "stdout",
     "output_type": "stream",
     "text": [
      "Epoch 1/100\n",
      "32/32 [==============================] - 1s 3ms/step - loss: 0.1952 - accuracy: 0.7179\n",
      "Epoch 2/100\n",
      "32/32 [==============================] - 0s 3ms/step - loss: 0.1128 - accuracy: 0.8516\n",
      "Epoch 3/100\n",
      "32/32 [==============================] - 0s 3ms/step - loss: 0.0872 - accuracy: 0.8853\n",
      "Epoch 4/100\n",
      "32/32 [==============================] - 0s 2ms/step - loss: 0.0724 - accuracy: 0.9095\n",
      "Epoch 5/100\n",
      "32/32 [==============================] - 0s 2ms/step - loss: 0.0616 - accuracy: 0.9266\n",
      "Epoch 6/100\n",
      "32/32 [==============================] - 0s 2ms/step - loss: 0.0527 - accuracy: 0.9379\n",
      "Epoch 7/100\n",
      "32/32 [==============================] - 0s 3ms/step - loss: 0.0449 - accuracy: 0.9502\n",
      "Epoch 8/100\n",
      "32/32 [==============================] - 0s 2ms/step - loss: 0.0395 - accuracy: 0.9570\n",
      "Epoch 9/100\n",
      "32/32 [==============================] - 0s 2ms/step - loss: 0.0336 - accuracy: 0.9666\n",
      "Epoch 10/100\n",
      "32/32 [==============================] - 0s 2ms/step - loss: 0.0285 - accuracy: 0.9706\n",
      "Epoch 11/100\n",
      "32/32 [==============================] - 0s 3ms/step - loss: 0.0231 - accuracy: 0.9774\n",
      "Epoch 12/100\n",
      "32/32 [==============================] - 0s 2ms/step - loss: 0.0201 - accuracy: 0.9827\n",
      "Epoch 13/100\n",
      "32/32 [==============================] - 0s 2ms/step - loss: 0.0182 - accuracy: 0.9816\n",
      "Epoch 14/100\n",
      "32/32 [==============================] - 0s 2ms/step - loss: 0.0172 - accuracy: 0.9849\n",
      "Epoch 15/100\n",
      "32/32 [==============================] - 0s 2ms/step - loss: 0.0137 - accuracy: 0.9882\n",
      "Epoch 16/100\n",
      "32/32 [==============================] - 0s 2ms/step - loss: 0.0132 - accuracy: 0.9877\n",
      "Epoch 17/100\n",
      "32/32 [==============================] - 0s 2ms/step - loss: 0.0126 - accuracy: 0.9872\n",
      "Epoch 18/100\n",
      "32/32 [==============================] - 0s 2ms/step - loss: 0.0112 - accuracy: 0.9884\n",
      "Epoch 19/100\n",
      "32/32 [==============================] - 0s 2ms/step - loss: 0.0101 - accuracy: 0.9902\n",
      "Epoch 20/100\n",
      "32/32 [==============================] - 0s 2ms/step - loss: 0.0097 - accuracy: 0.9907\n",
      "Epoch 21/100\n",
      "32/32 [==============================] - 0s 2ms/step - loss: 0.0096 - accuracy: 0.9904\n",
      "Epoch 22/100\n",
      "32/32 [==============================] - 0s 2ms/step - loss: 0.0086 - accuracy: 0.9915\n",
      "Epoch 23/100\n",
      "32/32 [==============================] - 0s 2ms/step - loss: 0.0087 - accuracy: 0.9915\n",
      "Epoch 24/100\n",
      "32/32 [==============================] - 0s 3ms/step - loss: 0.0084 - accuracy: 0.9912\n",
      "Epoch 25/100\n",
      "32/32 [==============================] - 0s 2ms/step - loss: 0.0083 - accuracy: 0.9915\n",
      "Epoch 26/100\n",
      "32/32 [==============================] - 0s 2ms/step - loss: 0.0087 - accuracy: 0.9909\n",
      "Epoch 27/100\n",
      "32/32 [==============================] - 0s 2ms/step - loss: 0.0091 - accuracy: 0.9902\n",
      "Epoch 28/100\n",
      "32/32 [==============================] - 0s 3ms/step - loss: 0.0078 - accuracy: 0.9915\n",
      "Epoch 29/100\n",
      "32/32 [==============================] - 0s 3ms/step - loss: 0.0075 - accuracy: 0.9917\n",
      "Epoch 30/100\n",
      "32/32 [==============================] - 0s 3ms/step - loss: 0.0074 - accuracy: 0.9917\n",
      "Epoch 31/100\n",
      "32/32 [==============================] - 0s 2ms/step - loss: 0.0076 - accuracy: 0.9915\n",
      "Epoch 32/100\n",
      "32/32 [==============================] - 0s 2ms/step - loss: 0.0074 - accuracy: 0.9920\n",
      "Epoch 33/100\n",
      "32/32 [==============================] - 0s 2ms/step - loss: 0.0073 - accuracy: 0.9925\n",
      "Epoch 34/100\n",
      "32/32 [==============================] - 0s 2ms/step - loss: 0.0076 - accuracy: 0.9915\n",
      "Epoch 35/100\n",
      "32/32 [==============================] - 0s 3ms/step - loss: 0.0072 - accuracy: 0.9920\n",
      "Epoch 36/100\n",
      "32/32 [==============================] - 0s 3ms/step - loss: 0.0073 - accuracy: 0.9922\n",
      "Epoch 37/100\n",
      "32/32 [==============================] - 0s 2ms/step - loss: 0.0071 - accuracy: 0.9917\n",
      "Epoch 38/100\n",
      "32/32 [==============================] - 0s 2ms/step - loss: 0.0071 - accuracy: 0.9922\n",
      "Epoch 39/100\n",
      "32/32 [==============================] - 0s 2ms/step - loss: 0.0070 - accuracy: 0.9917\n",
      "Epoch 40/100\n",
      "32/32 [==============================] - 0s 3ms/step - loss: 0.0067 - accuracy: 0.9927\n",
      "Epoch 41/100\n",
      "32/32 [==============================] - 0s 2ms/step - loss: 0.0070 - accuracy: 0.9922\n",
      "Epoch 42/100\n",
      "32/32 [==============================] - 0s 3ms/step - loss: 0.0067 - accuracy: 0.9932\n",
      "Epoch 43/100\n",
      "32/32 [==============================] - 0s 2ms/step - loss: 0.0065 - accuracy: 0.9930\n",
      "Epoch 44/100\n",
      "32/32 [==============================] - 0s 2ms/step - loss: 0.0070 - accuracy: 0.9920\n",
      "Epoch 45/100\n",
      "32/32 [==============================] - 0s 2ms/step - loss: 0.0067 - accuracy: 0.9920\n",
      "Epoch 46/100\n",
      "32/32 [==============================] - 0s 2ms/step - loss: 0.0065 - accuracy: 0.9930\n",
      "Epoch 47/100\n",
      "32/32 [==============================] - 0s 2ms/step - loss: 0.0069 - accuracy: 0.9920\n",
      "Epoch 48/100\n",
      "32/32 [==============================] - 0s 2ms/step - loss: 0.0069 - accuracy: 0.9922\n",
      "Epoch 49/100\n",
      "32/32 [==============================] - 0s 2ms/step - loss: 0.0066 - accuracy: 0.9932\n",
      "Epoch 50/100\n",
      "32/32 [==============================] - 0s 2ms/step - loss: 0.0070 - accuracy: 0.9922\n",
      "Epoch 51/100\n",
      "32/32 [==============================] - 0s 2ms/step - loss: 0.0067 - accuracy: 0.9922\n",
      "Epoch 52/100\n",
      "32/32 [==============================] - 0s 2ms/step - loss: 0.0071 - accuracy: 0.9917\n",
      "Epoch 53/100\n",
      "32/32 [==============================] - 0s 3ms/step - loss: 0.0068 - accuracy: 0.9925\n",
      "Epoch 54/100\n",
      "32/32 [==============================] - 0s 2ms/step - loss: 0.0064 - accuracy: 0.9930\n",
      "Epoch 55/100\n",
      "32/32 [==============================] - 0s 3ms/step - loss: 0.0062 - accuracy: 0.9932\n",
      "Epoch 56/100\n",
      "32/32 [==============================] - 0s 3ms/step - loss: 0.0061 - accuracy: 0.9932\n",
      "Epoch 57/100\n",
      "32/32 [==============================] - 0s 2ms/step - loss: 0.0063 - accuracy: 0.9922\n",
      "Epoch 58/100\n",
      "32/32 [==============================] - 0s 2ms/step - loss: 0.0064 - accuracy: 0.9927\n",
      "Epoch 59/100\n",
      "32/32 [==============================] - 0s 2ms/step - loss: 0.0064 - accuracy: 0.9927\n",
      "Epoch 60/100\n",
      "32/32 [==============================] - 0s 3ms/step - loss: 0.0065 - accuracy: 0.9922\n",
      "Epoch 61/100\n",
      "32/32 [==============================] - 0s 2ms/step - loss: 0.0068 - accuracy: 0.9920\n",
      "Epoch 62/100\n",
      "32/32 [==============================] - 0s 2ms/step - loss: 0.0061 - accuracy: 0.9935\n",
      "Epoch 63/100\n",
      "32/32 [==============================] - 0s 2ms/step - loss: 0.0062 - accuracy: 0.9932\n",
      "Epoch 64/100\n",
      "32/32 [==============================] - 0s 2ms/step - loss: 0.0058 - accuracy: 0.9937\n",
      "Epoch 65/100\n",
      "32/32 [==============================] - 0s 2ms/step - loss: 0.0061 - accuracy: 0.9935\n",
      "Epoch 66/100\n",
      "32/32 [==============================] - 0s 2ms/step - loss: 0.0060 - accuracy: 0.9932\n",
      "Epoch 67/100\n",
      "32/32 [==============================] - 0s 2ms/step - loss: 0.0059 - accuracy: 0.9932\n",
      "Epoch 68/100\n",
      "32/32 [==============================] - 0s 2ms/step - loss: 0.0061 - accuracy: 0.9927\n",
      "Epoch 69/100\n",
      "32/32 [==============================] - 0s 2ms/step - loss: 0.0058 - accuracy: 0.9940\n",
      "Epoch 70/100\n",
      "32/32 [==============================] - 0s 2ms/step - loss: 0.0061 - accuracy: 0.9930\n",
      "Epoch 71/100\n",
      "32/32 [==============================] - 0s 2ms/step - loss: 0.0059 - accuracy: 0.9935\n",
      "Epoch 72/100\n",
      "32/32 [==============================] - 0s 2ms/step - loss: 0.0058 - accuracy: 0.9937\n",
      "Epoch 73/100\n",
      "32/32 [==============================] - 0s 2ms/step - loss: 0.0062 - accuracy: 0.9932\n",
      "Epoch 74/100\n",
      "32/32 [==============================] - 0s 2ms/step - loss: 0.0058 - accuracy: 0.9937\n",
      "Epoch 75/100\n",
      "32/32 [==============================] - 0s 2ms/step - loss: 0.0058 - accuracy: 0.9932\n",
      "Epoch 76/100\n",
      "32/32 [==============================] - 0s 2ms/step - loss: 0.0060 - accuracy: 0.9937\n",
      "Epoch 77/100\n",
      "32/32 [==============================] - 0s 2ms/step - loss: 0.0060 - accuracy: 0.9932\n",
      "Epoch 78/100\n",
      "32/32 [==============================] - 0s 2ms/step - loss: 0.0059 - accuracy: 0.9930\n",
      "Epoch 79/100\n",
      "32/32 [==============================] - 0s 3ms/step - loss: 0.0057 - accuracy: 0.9940\n",
      "Epoch 80/100\n",
      "32/32 [==============================] - 0s 3ms/step - loss: 0.0058 - accuracy: 0.9935\n",
      "Epoch 81/100\n",
      "32/32 [==============================] - 0s 2ms/step - loss: 0.0057 - accuracy: 0.9935\n",
      "Epoch 82/100\n",
      "32/32 [==============================] - 0s 3ms/step - loss: 0.0058 - accuracy: 0.9937\n",
      "Epoch 83/100\n"
     ]
    },
    {
     "name": "stdout",
     "output_type": "stream",
     "text": [
      "32/32 [==============================] - 0s 2ms/step - loss: 0.0057 - accuracy: 0.9932\n",
      "Epoch 84/100\n",
      "32/32 [==============================] - 0s 2ms/step - loss: 0.0055 - accuracy: 0.9937\n",
      "Epoch 85/100\n",
      "32/32 [==============================] - 0s 2ms/step - loss: 0.0058 - accuracy: 0.9927\n",
      "Epoch 86/100\n",
      "32/32 [==============================] - 0s 3ms/step - loss: 0.0058 - accuracy: 0.9935\n",
      "Epoch 87/100\n",
      "32/32 [==============================] - 0s 3ms/step - loss: 0.0059 - accuracy: 0.9930\n",
      "Epoch 88/100\n",
      "32/32 [==============================] - 0s 2ms/step - loss: 0.0059 - accuracy: 0.9927\n",
      "Epoch 89/100\n",
      "32/32 [==============================] - 0s 2ms/step - loss: 0.0058 - accuracy: 0.9927\n",
      "Epoch 90/100\n",
      "32/32 [==============================] - 0s 2ms/step - loss: 0.0057 - accuracy: 0.9937\n",
      "Epoch 91/100\n",
      "32/32 [==============================] - 0s 2ms/step - loss: 0.0056 - accuracy: 0.9930\n",
      "Epoch 92/100\n",
      "32/32 [==============================] - 0s 2ms/step - loss: 0.0060 - accuracy: 0.9930\n",
      "Epoch 93/100\n",
      "32/32 [==============================] - 0s 2ms/step - loss: 0.0056 - accuracy: 0.9937\n",
      "Epoch 94/100\n",
      "32/32 [==============================] - 0s 2ms/step - loss: 0.0058 - accuracy: 0.9930\n",
      "Epoch 95/100\n",
      "32/32 [==============================] - 0s 2ms/step - loss: 0.0056 - accuracy: 0.9932\n",
      "Epoch 96/100\n",
      "32/32 [==============================] - 0s 2ms/step - loss: 0.0056 - accuracy: 0.9927\n",
      "Epoch 97/100\n",
      "32/32 [==============================] - 0s 2ms/step - loss: 0.0057 - accuracy: 0.9930\n",
      "Epoch 98/100\n",
      "32/32 [==============================] - 0s 2ms/step - loss: 0.0055 - accuracy: 0.9927\n",
      "Epoch 99/100\n",
      "32/32 [==============================] - 0s 2ms/step - loss: 0.0056 - accuracy: 0.9930\n",
      "Epoch 100/100\n",
      "32/32 [==============================] - 0s 2ms/step - loss: 0.0057 - accuracy: 0.9930\n"
     ]
    },
    {
     "data": {
      "text/plain": [
       "<keras.callbacks.History at 0x7f793c236ac0>"
      ]
     },
     "execution_count": 33,
     "metadata": {},
     "output_type": "execute_result"
    }
   ],
   "source": [
    "model.fit(X_train, y_train, epochs=100, batch_size=128)"
   ]
  },
  {
   "cell_type": "code",
   "execution_count": 34,
   "id": "working-exemption",
   "metadata": {},
   "outputs": [
    {
     "name": "stdout",
     "output_type": "stream",
     "text": [
      "49/49 [==============================] - 0s 2ms/step - loss: 0.1907 - accuracy: 0.7708\n"
     ]
    }
   ],
   "source": [
    "results = model.evaluate(X_test, y_test)"
   ]
  },
  {
   "cell_type": "code",
   "execution_count": 35,
   "id": "traditional-horizontal",
   "metadata": {},
   "outputs": [
    {
     "name": "stdout",
     "output_type": "stream",
     "text": [
      "[0.19068124890327454, 0.7707662582397461]\n"
     ]
    }
   ],
   "source": [
    "print(results)"
   ]
  },
  {
   "cell_type": "code",
   "execution_count": 36,
   "id": "designed-terrain",
   "metadata": {},
   "outputs": [
    {
     "name": "stdout",
     "output_type": "stream",
     "text": [
      "[[9.8509246e-01]\n",
      " [9.9908018e-01]\n",
      " [1.5291163e-03]\n",
      " ...\n",
      " [4.6342513e-05]\n",
      " [4.2366234e-04]\n",
      " [1.4108245e-04]]\n"
     ]
    }
   ],
   "source": [
    "pred = model.predict(X_test)\n",
    "print(pred)"
   ]
  },
  {
   "cell_type": "markdown",
   "id": "micro-shift",
   "metadata": {},
   "source": [
    "## *labling*"
   ]
  },
  {
   "cell_type": "code",
   "execution_count": 37,
   "id": "single-elder",
   "metadata": {},
   "outputs": [
    {
     "name": "stdout",
     "output_type": "stream",
     "text": [
      "                         inchikey  \\\n",
      "2     TTZSNFLLYPYKIL-UHFFFAOYSA-N   \n",
      "4     CUIHSIWYWATEQL-UHFFFAOYSA-N   \n",
      "6     JMGXJHWTVBGOKG-UHFFFAOYSA-N   \n",
      "10    DXCUKNQANPLTEJ-UHFFFAOYSA-N   \n",
      "11    PIQCTGMSNWUMAF-UHFFFAOYSA-N   \n",
      "...                           ...   \n",
      "5525  UBAHPEHGSJRHGA-UHFFFAOYSA-N   \n",
      "5526  RTTIKBHDHKOSNI-UHFFFAOYSA-N   \n",
      "5527  HVUOSZANYULBJR-UHFFFAOYSA-N   \n",
      "5528  SNFWCJIVWUVRNO-UHFFFAOYSA-N   \n",
      "5529  MKSAGABLDNGEAP-DHIUTWEWSA-N   \n",
      "\n",
      "                                                 smiles   predict  \n",
      "2     Cc1cc2cc(Oc3ccnc(Nc4cccc(CS(=O)(=O)NCCN(C)C)c4...  0.985092  \n",
      "4     Cc1ccc(Nc2nccc(N(C)c3ccc4c(C)n(C)nc4c3)n2)cc1S...  0.999080  \n",
      "6     Cc1cc(-c2cc(OC(=O)c3ccccc3)ccc2Cl)cc2nnc(Nc3cc...  0.001529  \n",
      "10    CCN(CC)CCCCNc1ncc2cc(-c3cc(OC)cc(OC)c3)c(NC(=O...  0.999924  \n",
      "11    CN1CCN(c2ccc3nc(-c4c(N)c5c(F)cccc5[nH]c4=O)[nH...  0.999876  \n",
      "...                                                 ...       ...  \n",
      "5525  Cc1cccc2nc(-c3ccc(-c4cccc(CN5CCC(C(N)=O)CC5)c4...  0.000004  \n",
      "5526        Cc1c2ccccc2nc2c1c1cc(NCCN(C)C)ccc1n2CCN(C)C  0.003630  \n",
      "5527  Cc1ccc(-c2ccn(-c3ccc4c5c(n(C)c4c3)CCCNC5)c(=O)...  0.000046  \n",
      "5528  N#Cc1c(-c2ccccc2C(F)(F)F)nc(SCc2ccc(OC(F)(F)F)...  0.000424  \n",
      "5529  CCOP(=O)(OCC)[C@@H]1C[C@H](C(=O)Nc2cc3c4c(cccc...  0.000141  \n",
      "\n",
      "[1553 rows x 3 columns]\n"
     ]
    },
    {
     "name": "stderr",
     "output_type": "stream",
     "text": [
      "/home/ai/.local/lib/python3.8/site-packages/pandas/core/frame.py:3607: SettingWithCopyWarning: \n",
      "A value is trying to be set on a copy of a slice from a DataFrame.\n",
      "Try using .loc[row_indexer,col_indexer] = value instead\n",
      "\n",
      "See the caveats in the documentation: https://pandas.pydata.org/pandas-docs/stable/user_guide/indexing.html#returning-a-view-versus-a-copy\n",
      "  self._set_item(key, value)\n"
     ]
    }
   ],
   "source": [
    "test_data2 = df[df.group.eq('test')]\n",
    "test_data2['predict'] = pred\n",
    "test_data2 = test_data2[['inchikey', 'smiles', 'predict']]\n",
    "\n",
    "print(test_data2)"
   ]
  },
  {
   "cell_type": "code",
   "execution_count": null,
   "id": "resistant-twins",
   "metadata": {},
   "outputs": [],
   "source": []
  }
 ],
 "metadata": {
  "kernelspec": {
   "display_name": "Python 3",
   "language": "python",
   "name": "python3"
  },
  "language_info": {
   "codemirror_mode": {
    "name": "ipython",
    "version": 3
   },
   "file_extension": ".py",
   "mimetype": "text/x-python",
   "name": "python",
   "nbconvert_exporter": "python",
   "pygments_lexer": "ipython3",
   "version": "3.8.5"
  }
 },
 "nbformat": 4,
 "nbformat_minor": 5
}
